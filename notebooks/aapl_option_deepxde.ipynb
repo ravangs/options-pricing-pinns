{
 "cells": [
  {
   "cell_type": "markdown",
   "id": "ca58f885",
   "metadata": {},
   "source": [
    "# Analyzing AAPL options using DeepXDE"
   ]
  },
  {
   "cell_type": "markdown",
   "id": "6fdfba87",
   "metadata": {},
   "source": [
    "https://deepxde.readthedocs.io/en/latest/demos/pinn_forward/heat.resample.html"
   ]
  },
  {
   "cell_type": "code",
   "execution_count": 2,
   "id": "59c176ef",
   "metadata": {
    "ExecuteTime": {
     "end_time": "2023-10-18T19:15:27.794167Z",
     "start_time": "2023-10-18T19:15:27.776372Z"
    }
   },
   "outputs": [],
   "source": [
    "#Import required libraries\n",
    "import torch\n",
    "import torch.nn.init as init\n",
    "from torch.utils.data import DataLoader, TensorDataset\n",
    "from sklearn.model_selection import train_test_split\n",
    "import math\n",
    "import numpy as np\n",
    "import pandas as pd\n",
    "from collections import OrderedDict\n",
    "import matplotlib.pyplot as plt\n",
    "import warnings\n",
    "warnings.filterwarnings('ignore')\n",
    "import tqdm as notebook_tqdm\n",
    "from mpl_toolkits.mplot3d import Axes3D\n",
    "from scipy.interpolate import griddata\n",
    "import torch.nn.functional as F\n",
    "import deepxde as dde"
   ]
  },
  {
   "cell_type": "code",
   "execution_count": 3,
   "id": "3f4ae4e5",
   "metadata": {
    "ExecuteTime": {
     "end_time": "2023-10-18T19:15:28.285809Z",
     "start_time": "2023-10-18T19:15:28.282797Z"
    }
   },
   "outputs": [],
   "source": [
    "# Choose the device for computation\n",
    "device = torch.device('cpu')"
   ]
  },
  {
   "cell_type": "code",
   "execution_count": 6,
   "id": "18c91424",
   "metadata": {
    "ExecuteTime": {
     "end_time": "2023-10-18T19:15:55.691558Z",
     "start_time": "2023-10-18T19:15:55.441544Z"
    }
   },
   "outputs": [
    {
     "data": {
      "text/plain": "              date      exdate   last_date cp_flag  strike_price  best_bid  \\\n231740  2022-12-30  2025-01-17  2022-12-30       C         75000     62.25   \n231741  2022-12-30  2025-01-17  2022-12-30       C         80000     59.45   \n231742  2022-12-30  2025-01-17  2022-12-30       C         85000     54.85   \n231743  2022-12-30  2025-01-17  2022-12-30       C         90000     52.00   \n231744  2022-12-30  2025-01-17  2022-12-30       C         95000     48.60   \n\n        best_offer  volume  impl_volatility     delta     gamma      vega  \\\n231740       66.15      15         0.401064  0.909907  0.001996  27.71559   \n231741       60.90      30         0.385271  0.896819  0.002323  31.02641   \n231742       58.80       5         0.387946  0.876305  0.002663  35.75625   \n231743       54.75      17         0.383652  0.856602  0.003009  40.01353   \n231744       51.45      22         0.378899  0.835674  0.003359  44.08449   \n\n           theta   optionid  contract_size ticker  index_flag     issuer  \\\n231740 -5.322647  149531728            100   AAPL           0  APPLE INC   \n231741 -5.635316  149531729            100   AAPL           0  APPLE INC   \n231742 -6.140437  149531730            100   AAPL           0  APPLE INC   \n231743 -6.538813  149531731            100   AAPL           0  APPLE INC   \n231744 -6.901461  149531732            100   AAPL           0  APPLE INC   \n\n       exercise_style  \n231740              A  \n231741              A  \n231742              A  \n231743              A  \n231744              A  ",
      "text/html": "<div>\n<style scoped>\n    .dataframe tbody tr th:only-of-type {\n        vertical-align: middle;\n    }\n\n    .dataframe tbody tr th {\n        vertical-align: top;\n    }\n\n    .dataframe thead th {\n        text-align: right;\n    }\n</style>\n<table border=\"1\" class=\"dataframe\">\n  <thead>\n    <tr style=\"text-align: right;\">\n      <th></th>\n      <th>date</th>\n      <th>exdate</th>\n      <th>last_date</th>\n      <th>cp_flag</th>\n      <th>strike_price</th>\n      <th>best_bid</th>\n      <th>best_offer</th>\n      <th>volume</th>\n      <th>impl_volatility</th>\n      <th>delta</th>\n      <th>gamma</th>\n      <th>vega</th>\n      <th>theta</th>\n      <th>optionid</th>\n      <th>contract_size</th>\n      <th>ticker</th>\n      <th>index_flag</th>\n      <th>issuer</th>\n      <th>exercise_style</th>\n    </tr>\n  </thead>\n  <tbody>\n    <tr>\n      <th>231740</th>\n      <td>2022-12-30</td>\n      <td>2025-01-17</td>\n      <td>2022-12-30</td>\n      <td>C</td>\n      <td>75000</td>\n      <td>62.25</td>\n      <td>66.15</td>\n      <td>15</td>\n      <td>0.401064</td>\n      <td>0.909907</td>\n      <td>0.001996</td>\n      <td>27.71559</td>\n      <td>-5.322647</td>\n      <td>149531728</td>\n      <td>100</td>\n      <td>AAPL</td>\n      <td>0</td>\n      <td>APPLE INC</td>\n      <td>A</td>\n    </tr>\n    <tr>\n      <th>231741</th>\n      <td>2022-12-30</td>\n      <td>2025-01-17</td>\n      <td>2022-12-30</td>\n      <td>C</td>\n      <td>80000</td>\n      <td>59.45</td>\n      <td>60.90</td>\n      <td>30</td>\n      <td>0.385271</td>\n      <td>0.896819</td>\n      <td>0.002323</td>\n      <td>31.02641</td>\n      <td>-5.635316</td>\n      <td>149531729</td>\n      <td>100</td>\n      <td>AAPL</td>\n      <td>0</td>\n      <td>APPLE INC</td>\n      <td>A</td>\n    </tr>\n    <tr>\n      <th>231742</th>\n      <td>2022-12-30</td>\n      <td>2025-01-17</td>\n      <td>2022-12-30</td>\n      <td>C</td>\n      <td>85000</td>\n      <td>54.85</td>\n      <td>58.80</td>\n      <td>5</td>\n      <td>0.387946</td>\n      <td>0.876305</td>\n      <td>0.002663</td>\n      <td>35.75625</td>\n      <td>-6.140437</td>\n      <td>149531730</td>\n      <td>100</td>\n      <td>AAPL</td>\n      <td>0</td>\n      <td>APPLE INC</td>\n      <td>A</td>\n    </tr>\n    <tr>\n      <th>231743</th>\n      <td>2022-12-30</td>\n      <td>2025-01-17</td>\n      <td>2022-12-30</td>\n      <td>C</td>\n      <td>90000</td>\n      <td>52.00</td>\n      <td>54.75</td>\n      <td>17</td>\n      <td>0.383652</td>\n      <td>0.856602</td>\n      <td>0.003009</td>\n      <td>40.01353</td>\n      <td>-6.538813</td>\n      <td>149531731</td>\n      <td>100</td>\n      <td>AAPL</td>\n      <td>0</td>\n      <td>APPLE INC</td>\n      <td>A</td>\n    </tr>\n    <tr>\n      <th>231744</th>\n      <td>2022-12-30</td>\n      <td>2025-01-17</td>\n      <td>2022-12-30</td>\n      <td>C</td>\n      <td>95000</td>\n      <td>48.60</td>\n      <td>51.45</td>\n      <td>22</td>\n      <td>0.378899</td>\n      <td>0.835674</td>\n      <td>0.003359</td>\n      <td>44.08449</td>\n      <td>-6.901461</td>\n      <td>149531732</td>\n      <td>100</td>\n      <td>AAPL</td>\n      <td>0</td>\n      <td>APPLE INC</td>\n      <td>A</td>\n    </tr>\n  </tbody>\n</table>\n</div>"
     },
     "execution_count": 6,
     "metadata": {},
     "output_type": "execute_result"
    }
   ],
   "source": [
    "options_data = pd.read_csv('../data/option_prices_aapl_2022.csv')\n",
    "stock_prices_data = pd.read_csv('../data/stock_prices_aapl_2022.csv')\n",
    "options_data.tail()"
   ]
  },
  {
   "cell_type": "code",
   "execution_count": 7,
   "id": "056c1e8d",
   "metadata": {
    "ExecuteTime": {
     "end_time": "2023-10-18T19:15:56.866953Z",
     "start_time": "2023-10-18T19:15:56.778103Z"
    }
   },
   "outputs": [
    {
     "data": {
      "text/plain": "        strike_price       best_bid     best_offer         volume  \\\ncount  231745.000000  231745.000000  231745.000000  231745.000000   \nmean   159060.633455      27.675167      28.076322     777.266590   \nstd     64087.229135      33.455194      33.752894    5820.564791   \nmin     25000.000000       0.000000       0.010000       0.000000   \n25%    110000.000000       0.510000       0.590000       0.000000   \n50%    150000.000000      12.300000      12.650000       8.000000   \n75%    205000.000000      47.550000      48.250000     109.000000   \nmax    320000.000000     156.700000     157.050000  365875.000000   \n\n       impl_volatility          delta          gamma           vega  \\\ncount    211076.000000  211076.000000  211076.000000  211076.000000   \nmean          0.458185       0.482070       0.006758      19.235582   \nstd           0.283766       0.392335       0.009867      22.076527   \nmin           0.151039       0.000619       0.000000       0.000223   \n25%           0.310949       0.043089       0.001004       1.963998   \n50%           0.371723       0.486595       0.003625      10.330390   \n75%           0.484269       0.903945       0.008010      30.046845   \nmax           2.998775       0.999998       0.184287     105.490200   \n\n               theta      optionid  contract_size  index_flag  \ncount  211076.000000  2.317450e+05       231745.0    231745.0  \nmean      -12.865614  1.442466e+08          100.0         0.0  \nstd        21.631369  5.008530e+06            0.0         0.0  \nmin      -734.326500  1.305090e+08          100.0         0.0  \n25%       -13.742892  1.414705e+08          100.0         0.0  \n50%        -7.651854  1.447367e+08          100.0         0.0  \n75%        -3.247278  1.481613e+08          100.0         0.0  \nmax        -0.098726  1.517594e+08          100.0         0.0  ",
      "text/html": "<div>\n<style scoped>\n    .dataframe tbody tr th:only-of-type {\n        vertical-align: middle;\n    }\n\n    .dataframe tbody tr th {\n        vertical-align: top;\n    }\n\n    .dataframe thead th {\n        text-align: right;\n    }\n</style>\n<table border=\"1\" class=\"dataframe\">\n  <thead>\n    <tr style=\"text-align: right;\">\n      <th></th>\n      <th>strike_price</th>\n      <th>best_bid</th>\n      <th>best_offer</th>\n      <th>volume</th>\n      <th>impl_volatility</th>\n      <th>delta</th>\n      <th>gamma</th>\n      <th>vega</th>\n      <th>theta</th>\n      <th>optionid</th>\n      <th>contract_size</th>\n      <th>index_flag</th>\n    </tr>\n  </thead>\n  <tbody>\n    <tr>\n      <th>count</th>\n      <td>231745.000000</td>\n      <td>231745.000000</td>\n      <td>231745.000000</td>\n      <td>231745.000000</td>\n      <td>211076.000000</td>\n      <td>211076.000000</td>\n      <td>211076.000000</td>\n      <td>211076.000000</td>\n      <td>211076.000000</td>\n      <td>2.317450e+05</td>\n      <td>231745.0</td>\n      <td>231745.0</td>\n    </tr>\n    <tr>\n      <th>mean</th>\n      <td>159060.633455</td>\n      <td>27.675167</td>\n      <td>28.076322</td>\n      <td>777.266590</td>\n      <td>0.458185</td>\n      <td>0.482070</td>\n      <td>0.006758</td>\n      <td>19.235582</td>\n      <td>-12.865614</td>\n      <td>1.442466e+08</td>\n      <td>100.0</td>\n      <td>0.0</td>\n    </tr>\n    <tr>\n      <th>std</th>\n      <td>64087.229135</td>\n      <td>33.455194</td>\n      <td>33.752894</td>\n      <td>5820.564791</td>\n      <td>0.283766</td>\n      <td>0.392335</td>\n      <td>0.009867</td>\n      <td>22.076527</td>\n      <td>21.631369</td>\n      <td>5.008530e+06</td>\n      <td>0.0</td>\n      <td>0.0</td>\n    </tr>\n    <tr>\n      <th>min</th>\n      <td>25000.000000</td>\n      <td>0.000000</td>\n      <td>0.010000</td>\n      <td>0.000000</td>\n      <td>0.151039</td>\n      <td>0.000619</td>\n      <td>0.000000</td>\n      <td>0.000223</td>\n      <td>-734.326500</td>\n      <td>1.305090e+08</td>\n      <td>100.0</td>\n      <td>0.0</td>\n    </tr>\n    <tr>\n      <th>25%</th>\n      <td>110000.000000</td>\n      <td>0.510000</td>\n      <td>0.590000</td>\n      <td>0.000000</td>\n      <td>0.310949</td>\n      <td>0.043089</td>\n      <td>0.001004</td>\n      <td>1.963998</td>\n      <td>-13.742892</td>\n      <td>1.414705e+08</td>\n      <td>100.0</td>\n      <td>0.0</td>\n    </tr>\n    <tr>\n      <th>50%</th>\n      <td>150000.000000</td>\n      <td>12.300000</td>\n      <td>12.650000</td>\n      <td>8.000000</td>\n      <td>0.371723</td>\n      <td>0.486595</td>\n      <td>0.003625</td>\n      <td>10.330390</td>\n      <td>-7.651854</td>\n      <td>1.447367e+08</td>\n      <td>100.0</td>\n      <td>0.0</td>\n    </tr>\n    <tr>\n      <th>75%</th>\n      <td>205000.000000</td>\n      <td>47.550000</td>\n      <td>48.250000</td>\n      <td>109.000000</td>\n      <td>0.484269</td>\n      <td>0.903945</td>\n      <td>0.008010</td>\n      <td>30.046845</td>\n      <td>-3.247278</td>\n      <td>1.481613e+08</td>\n      <td>100.0</td>\n      <td>0.0</td>\n    </tr>\n    <tr>\n      <th>max</th>\n      <td>320000.000000</td>\n      <td>156.700000</td>\n      <td>157.050000</td>\n      <td>365875.000000</td>\n      <td>2.998775</td>\n      <td>0.999998</td>\n      <td>0.184287</td>\n      <td>105.490200</td>\n      <td>-0.098726</td>\n      <td>1.517594e+08</td>\n      <td>100.0</td>\n      <td>0.0</td>\n    </tr>\n  </tbody>\n</table>\n</div>"
     },
     "execution_count": 7,
     "metadata": {},
     "output_type": "execute_result"
    }
   ],
   "source": [
    "options_data.describe()"
   ]
  },
  {
   "cell_type": "markdown",
   "id": "bcc7354e",
   "metadata": {},
   "source": [
    "Definition of the data:\n",
    "\n",
    "1. [Strike Price](https://www.investopedia.com/terms/s/strikeprice.asp)\n",
    "2. [Implied Volatility](https://www.investopedia.com/terms/i/iv.asp)\n",
    "3. [Options Greeks](https://www.investopedia.com/trading/getting-to-know-the-greeks/#toc-delta)\n",
    "4. [Forward Price](https://www.investopedia.com/terms/f/forwardprice.asp)"
   ]
  },
  {
   "cell_type": "code",
   "execution_count": 8,
   "id": "195caf6c",
   "metadata": {
    "ExecuteTime": {
     "end_time": "2023-10-18T19:15:57.964366Z",
     "start_time": "2023-10-18T19:15:57.949316Z"
    }
   },
   "outputs": [
    {
     "data": {
      "text/plain": "           Date    Open    High     Low   Close       Volume\n246  01/07/2022  172.89  174.14  171.03  172.17   86,709,148\n247  01/06/2022  172.70  175.30  171.64  172.00   96,903,961\n248  01/05/2022  179.61  180.17  174.64  174.92   94,537,602\n249  01/04/2022  182.63  182.94  179.12  179.70   99,310,438\n250  01/03/2022  177.83  182.88  177.71  182.01  104,701,203",
      "text/html": "<div>\n<style scoped>\n    .dataframe tbody tr th:only-of-type {\n        vertical-align: middle;\n    }\n\n    .dataframe tbody tr th {\n        vertical-align: top;\n    }\n\n    .dataframe thead th {\n        text-align: right;\n    }\n</style>\n<table border=\"1\" class=\"dataframe\">\n  <thead>\n    <tr style=\"text-align: right;\">\n      <th></th>\n      <th>Date</th>\n      <th>Open</th>\n      <th>High</th>\n      <th>Low</th>\n      <th>Close</th>\n      <th>Volume</th>\n    </tr>\n  </thead>\n  <tbody>\n    <tr>\n      <th>246</th>\n      <td>01/07/2022</td>\n      <td>172.89</td>\n      <td>174.14</td>\n      <td>171.03</td>\n      <td>172.17</td>\n      <td>86,709,148</td>\n    </tr>\n    <tr>\n      <th>247</th>\n      <td>01/06/2022</td>\n      <td>172.70</td>\n      <td>175.30</td>\n      <td>171.64</td>\n      <td>172.00</td>\n      <td>96,903,961</td>\n    </tr>\n    <tr>\n      <th>248</th>\n      <td>01/05/2022</td>\n      <td>179.61</td>\n      <td>180.17</td>\n      <td>174.64</td>\n      <td>174.92</td>\n      <td>94,537,602</td>\n    </tr>\n    <tr>\n      <th>249</th>\n      <td>01/04/2022</td>\n      <td>182.63</td>\n      <td>182.94</td>\n      <td>179.12</td>\n      <td>179.70</td>\n      <td>99,310,438</td>\n    </tr>\n    <tr>\n      <th>250</th>\n      <td>01/03/2022</td>\n      <td>177.83</td>\n      <td>182.88</td>\n      <td>177.71</td>\n      <td>182.01</td>\n      <td>104,701,203</td>\n    </tr>\n  </tbody>\n</table>\n</div>"
     },
     "execution_count": 8,
     "metadata": {},
     "output_type": "execute_result"
    }
   ],
   "source": [
    "stock_prices_data.tail()"
   ]
  },
  {
   "cell_type": "code",
   "execution_count": 9,
   "id": "8aa6f400",
   "metadata": {
    "ExecuteTime": {
     "end_time": "2023-10-18T19:15:58.422192Z",
     "start_time": "2023-10-18T19:15:58.311663Z"
    }
   },
   "outputs": [
    {
     "name": "stdout",
     "output_type": "stream",
     "text": [
      "Processed Data Summary:\n"
     ]
    },
    {
     "data": {
      "text/plain": "   index   last_date  strike_price  best_bid  best_offer  impl_volatility  \\\n0     18  2022-01-03        152500     28.25       31.25         0.937468   \n1     20  2022-01-03        157500     24.20       24.95         0.630916   \n2     22  2022-01-03        162500     19.30       20.65         0.753108   \n3     26  2022-01-03        172500      9.40        9.65         0.196803   \n4     27  2022-01-03        175000      7.10        7.20         0.247537   \n\n   contract_size   Close  time_to_expiration  \n0            100  182.01            0.010959  \n1            100  182.01            0.010959  \n2            100  182.01            0.010959  \n3            100  182.01            0.010959  \n4            100  182.01            0.010959  ",
      "text/html": "<div>\n<style scoped>\n    .dataframe tbody tr th:only-of-type {\n        vertical-align: middle;\n    }\n\n    .dataframe tbody tr th {\n        vertical-align: top;\n    }\n\n    .dataframe thead th {\n        text-align: right;\n    }\n</style>\n<table border=\"1\" class=\"dataframe\">\n  <thead>\n    <tr style=\"text-align: right;\">\n      <th></th>\n      <th>index</th>\n      <th>last_date</th>\n      <th>strike_price</th>\n      <th>best_bid</th>\n      <th>best_offer</th>\n      <th>impl_volatility</th>\n      <th>contract_size</th>\n      <th>Close</th>\n      <th>time_to_expiration</th>\n    </tr>\n  </thead>\n  <tbody>\n    <tr>\n      <th>0</th>\n      <td>18</td>\n      <td>2022-01-03</td>\n      <td>152500</td>\n      <td>28.25</td>\n      <td>31.25</td>\n      <td>0.937468</td>\n      <td>100</td>\n      <td>182.01</td>\n      <td>0.010959</td>\n    </tr>\n    <tr>\n      <th>1</th>\n      <td>20</td>\n      <td>2022-01-03</td>\n      <td>157500</td>\n      <td>24.20</td>\n      <td>24.95</td>\n      <td>0.630916</td>\n      <td>100</td>\n      <td>182.01</td>\n      <td>0.010959</td>\n    </tr>\n    <tr>\n      <th>2</th>\n      <td>22</td>\n      <td>2022-01-03</td>\n      <td>162500</td>\n      <td>19.30</td>\n      <td>20.65</td>\n      <td>0.753108</td>\n      <td>100</td>\n      <td>182.01</td>\n      <td>0.010959</td>\n    </tr>\n    <tr>\n      <th>3</th>\n      <td>26</td>\n      <td>2022-01-03</td>\n      <td>172500</td>\n      <td>9.40</td>\n      <td>9.65</td>\n      <td>0.196803</td>\n      <td>100</td>\n      <td>182.01</td>\n      <td>0.010959</td>\n    </tr>\n    <tr>\n      <th>4</th>\n      <td>27</td>\n      <td>2022-01-03</td>\n      <td>175000</td>\n      <td>7.10</td>\n      <td>7.20</td>\n      <td>0.247537</td>\n      <td>100</td>\n      <td>182.01</td>\n      <td>0.010959</td>\n    </tr>\n  </tbody>\n</table>\n</div>"
     },
     "execution_count": 9,
     "metadata": {},
     "output_type": "execute_result"
    }
   ],
   "source": [
    "options_data['date'] = pd.to_datetime(options_data['date'])\n",
    "stock_prices_data['Date'] = pd.to_datetime(stock_prices_data['Date'])\n",
    "\n",
    "# Merge options and stock prices data based on date\n",
    "merged_data = options_data.merge(stock_prices_data, left_on='date', right_on='Date', how=\"inner\")\n",
    "\n",
    "# Calculate time to expiration in years\n",
    "merged_data['exdate'] = pd.to_datetime(merged_data['exdate'])\n",
    "merged_data['time_to_expiration'] = (merged_data['exdate'] - merged_data['date']).dt.total_seconds() / (24 * 60 * 60 * 365)\n",
    "\n",
    "columns_to_drop = ['Date', 'Open', 'High', 'Low', 'Volume', 'date', 'exdate', 'volume', 'delta', 'gamma', 'vega', 'theta', 'optionid', 'ticker', 'index_flag', 'issuer', 'exercise_style']\n",
    "merged_data.drop(columns=columns_to_drop, inplace=True)\n",
    "\n",
    "merged_data = merged_data.dropna()\n",
    "\n",
    "# Filter call options\n",
    "call_options_data = merged_data[merged_data['cp_flag'] == \"C\"]\n",
    "call_options_data.drop(columns='cp_flag', inplace=True)\n",
    "\n",
    "call_options_data = call_options_data.reset_index()\n",
    "\n",
    "print(\"Processed Data Summary:\")\n",
    "call_options_data.head()"
   ]
  },
  {
   "cell_type": "code",
   "execution_count": 10,
   "id": "c0556251",
   "metadata": {
    "ExecuteTime": {
     "end_time": "2023-10-18T19:15:59.445887Z",
     "start_time": "2023-10-18T19:15:59.432316Z"
    }
   },
   "outputs": [],
   "source": [
    "train_call_options_data, test_call_options_data = train_test_split(call_options_data, test_size=0.1, random_state=42)"
   ]
  },
  {
   "cell_type": "code",
   "execution_count": 11,
   "id": "b81c1477",
   "metadata": {
    "ExecuteTime": {
     "end_time": "2023-10-18T19:16:00.119872Z",
     "start_time": "2023-10-18T19:16:00.107404Z"
    }
   },
   "outputs": [],
   "source": [
    "train_call_options_data = train_call_options_data.reset_index(drop=True)\n",
    "test_call_options_data = test_call_options_data.reset_index(drop=True)"
   ]
  },
  {
   "cell_type": "markdown",
   "id": "1deb8e48",
   "metadata": {},
   "source": [
    "### Modelling using a simple NN"
   ]
  },
  {
   "cell_type": "code",
   "execution_count": 12,
   "id": "6cbfee44",
   "metadata": {
    "ExecuteTime": {
     "end_time": "2023-10-18T19:16:01.812929Z",
     "start_time": "2023-10-18T19:16:01.809575Z"
    }
   },
   "outputs": [],
   "source": [
    "X_train = torch.tensor(train_call_options_data[['Close','time_to_expiration']].values, dtype=torch.float32)\n",
    "Y_train = torch.tensor(train_call_options_data.best_bid.values, dtype=torch.float32)"
   ]
  },
  {
   "cell_type": "code",
   "execution_count": 10,
   "id": "4363c1d7",
   "metadata": {
    "ExecuteTime": {
     "end_time": "2023-10-02T05:34:02.543287Z",
     "start_time": "2023-10-02T05:34:02.535182Z"
    }
   },
   "outputs": [],
   "source": [
    "batch_size = 64\n",
    "epochs = 100\n",
    "dataset_train = TensorDataset(X_train, Y_train)\n",
    "train_loader = torch.utils.data.DataLoader(dataset_train, batch_size=batch_size, shuffle=True)"
   ]
  },
  {
   "cell_type": "code",
   "execution_count": 11,
   "id": "7f3d690a",
   "metadata": {
    "ExecuteTime": {
     "end_time": "2023-10-02T05:34:05.553024Z",
     "start_time": "2023-10-02T05:34:05.548542Z"
    }
   },
   "outputs": [],
   "source": [
    "def initialize_weights(net, initialization_method=init.xavier_normal_):\n",
    "    \"\"\"\n",
    "    Initialize weights of a neural network using the specified initialization method.\n",
    "    \n",
    "    Args:\n",
    "        net (nn.Module): The neural network.\n",
    "        initialization_method: The initialization method from torch.nn.init.\n",
    "    \"\"\"\n",
    "    for m in net.modules():\n",
    "        if isinstance(m, (torch.nn.Linear)):\n",
    "            initialization_method(m.weight)\n",
    "            if m.bias is not None:\n",
    "                init.constant_(m.bias, 0)\n",
    "\n",
    "\n",
    "# Define the deep neural network (DNN) class\n",
    "class DNN(torch.nn.Module):\n",
    "    def __init__(self, layers):\n",
    "        super(DNN, self).__init__()\n",
    "        \n",
    "        self.depth = len(layers) - 1\n",
    "        \n",
    "        self.activation = torch.nn.Tanh\n",
    "        \n",
    "        # Create a list to hold layers and activation functions\n",
    "        layer_list = list()\n",
    "        for i in range(self.depth - 1): \n",
    "            layer_list.append(('layer_%d' % i, torch.nn.Linear(layers[i], layers[i+1])))\n",
    "            layer_list.append(('activation_%d' % i, self.activation()))\n",
    "            \n",
    "        # Append the last linear layer (output layer)\n",
    "        layer_list.append(('layer_%d' % (self.depth - 1), torch.nn.Linear(layers[-2], layers[-1])))\n",
    "        \n",
    "        layerDict = OrderedDict(layer_list)\n",
    "        \n",
    "        self.layers = torch.nn.Sequential(layerDict)\n",
    "        \n",
    "    def forward(self, x):\n",
    "        out = self.layers(x)\n",
    "        return out"
   ]
  },
  {
   "cell_type": "code",
   "execution_count": 12,
   "id": "c474aaa3",
   "metadata": {
    "ExecuteTime": {
     "end_time": "2023-10-02T05:34:08.948105Z",
     "start_time": "2023-10-02T05:34:08.918098Z"
    }
   },
   "outputs": [],
   "source": [
    "layers = [2] + [100 for _ in range(100)] + [1]\n",
    "\n",
    "model = DNN(layers)\n",
    "\n",
    "initialize_weights(model)"
   ]
  },
  {
   "cell_type": "code",
   "execution_count": 14,
   "outputs": [
    {
     "name": "stdout",
     "output_type": "stream",
     "text": [
      "DNN(\n",
      "  (layers): Sequential(\n",
      "    (layer_0): Linear(in_features=2, out_features=100, bias=True)\n",
      "    (activation_0): Tanh()\n",
      "    (layer_1): Linear(in_features=100, out_features=100, bias=True)\n",
      "    (activation_1): Tanh()\n",
      "    (layer_2): Linear(in_features=100, out_features=100, bias=True)\n",
      "    (activation_2): Tanh()\n",
      "    (layer_3): Linear(in_features=100, out_features=100, bias=True)\n",
      "    (activation_3): Tanh()\n",
      "    (layer_4): Linear(in_features=100, out_features=100, bias=True)\n",
      "    (activation_4): Tanh()\n",
      "    (layer_5): Linear(in_features=100, out_features=100, bias=True)\n",
      "    (activation_5): Tanh()\n",
      "    (layer_6): Linear(in_features=100, out_features=100, bias=True)\n",
      "    (activation_6): Tanh()\n",
      "    (layer_7): Linear(in_features=100, out_features=100, bias=True)\n",
      "    (activation_7): Tanh()\n",
      "    (layer_8): Linear(in_features=100, out_features=100, bias=True)\n",
      "    (activation_8): Tanh()\n",
      "    (layer_9): Linear(in_features=100, out_features=100, bias=True)\n",
      "    (activation_9): Tanh()\n",
      "    (layer_10): Linear(in_features=100, out_features=100, bias=True)\n",
      "    (activation_10): Tanh()\n",
      "    (layer_11): Linear(in_features=100, out_features=100, bias=True)\n",
      "    (activation_11): Tanh()\n",
      "    (layer_12): Linear(in_features=100, out_features=100, bias=True)\n",
      "    (activation_12): Tanh()\n",
      "    (layer_13): Linear(in_features=100, out_features=100, bias=True)\n",
      "    (activation_13): Tanh()\n",
      "    (layer_14): Linear(in_features=100, out_features=100, bias=True)\n",
      "    (activation_14): Tanh()\n",
      "    (layer_15): Linear(in_features=100, out_features=100, bias=True)\n",
      "    (activation_15): Tanh()\n",
      "    (layer_16): Linear(in_features=100, out_features=100, bias=True)\n",
      "    (activation_16): Tanh()\n",
      "    (layer_17): Linear(in_features=100, out_features=100, bias=True)\n",
      "    (activation_17): Tanh()\n",
      "    (layer_18): Linear(in_features=100, out_features=100, bias=True)\n",
      "    (activation_18): Tanh()\n",
      "    (layer_19): Linear(in_features=100, out_features=100, bias=True)\n",
      "    (activation_19): Tanh()\n",
      "    (layer_20): Linear(in_features=100, out_features=100, bias=True)\n",
      "    (activation_20): Tanh()\n",
      "    (layer_21): Linear(in_features=100, out_features=100, bias=True)\n",
      "    (activation_21): Tanh()\n",
      "    (layer_22): Linear(in_features=100, out_features=100, bias=True)\n",
      "    (activation_22): Tanh()\n",
      "    (layer_23): Linear(in_features=100, out_features=100, bias=True)\n",
      "    (activation_23): Tanh()\n",
      "    (layer_24): Linear(in_features=100, out_features=100, bias=True)\n",
      "    (activation_24): Tanh()\n",
      "    (layer_25): Linear(in_features=100, out_features=100, bias=True)\n",
      "    (activation_25): Tanh()\n",
      "    (layer_26): Linear(in_features=100, out_features=100, bias=True)\n",
      "    (activation_26): Tanh()\n",
      "    (layer_27): Linear(in_features=100, out_features=100, bias=True)\n",
      "    (activation_27): Tanh()\n",
      "    (layer_28): Linear(in_features=100, out_features=100, bias=True)\n",
      "    (activation_28): Tanh()\n",
      "    (layer_29): Linear(in_features=100, out_features=100, bias=True)\n",
      "    (activation_29): Tanh()\n",
      "    (layer_30): Linear(in_features=100, out_features=100, bias=True)\n",
      "    (activation_30): Tanh()\n",
      "    (layer_31): Linear(in_features=100, out_features=100, bias=True)\n",
      "    (activation_31): Tanh()\n",
      "    (layer_32): Linear(in_features=100, out_features=100, bias=True)\n",
      "    (activation_32): Tanh()\n",
      "    (layer_33): Linear(in_features=100, out_features=100, bias=True)\n",
      "    (activation_33): Tanh()\n",
      "    (layer_34): Linear(in_features=100, out_features=100, bias=True)\n",
      "    (activation_34): Tanh()\n",
      "    (layer_35): Linear(in_features=100, out_features=100, bias=True)\n",
      "    (activation_35): Tanh()\n",
      "    (layer_36): Linear(in_features=100, out_features=100, bias=True)\n",
      "    (activation_36): Tanh()\n",
      "    (layer_37): Linear(in_features=100, out_features=100, bias=True)\n",
      "    (activation_37): Tanh()\n",
      "    (layer_38): Linear(in_features=100, out_features=100, bias=True)\n",
      "    (activation_38): Tanh()\n",
      "    (layer_39): Linear(in_features=100, out_features=100, bias=True)\n",
      "    (activation_39): Tanh()\n",
      "    (layer_40): Linear(in_features=100, out_features=100, bias=True)\n",
      "    (activation_40): Tanh()\n",
      "    (layer_41): Linear(in_features=100, out_features=100, bias=True)\n",
      "    (activation_41): Tanh()\n",
      "    (layer_42): Linear(in_features=100, out_features=100, bias=True)\n",
      "    (activation_42): Tanh()\n",
      "    (layer_43): Linear(in_features=100, out_features=100, bias=True)\n",
      "    (activation_43): Tanh()\n",
      "    (layer_44): Linear(in_features=100, out_features=100, bias=True)\n",
      "    (activation_44): Tanh()\n",
      "    (layer_45): Linear(in_features=100, out_features=100, bias=True)\n",
      "    (activation_45): Tanh()\n",
      "    (layer_46): Linear(in_features=100, out_features=100, bias=True)\n",
      "    (activation_46): Tanh()\n",
      "    (layer_47): Linear(in_features=100, out_features=100, bias=True)\n",
      "    (activation_47): Tanh()\n",
      "    (layer_48): Linear(in_features=100, out_features=100, bias=True)\n",
      "    (activation_48): Tanh()\n",
      "    (layer_49): Linear(in_features=100, out_features=100, bias=True)\n",
      "    (activation_49): Tanh()\n",
      "    (layer_50): Linear(in_features=100, out_features=100, bias=True)\n",
      "    (activation_50): Tanh()\n",
      "    (layer_51): Linear(in_features=100, out_features=100, bias=True)\n",
      "    (activation_51): Tanh()\n",
      "    (layer_52): Linear(in_features=100, out_features=100, bias=True)\n",
      "    (activation_52): Tanh()\n",
      "    (layer_53): Linear(in_features=100, out_features=100, bias=True)\n",
      "    (activation_53): Tanh()\n",
      "    (layer_54): Linear(in_features=100, out_features=100, bias=True)\n",
      "    (activation_54): Tanh()\n",
      "    (layer_55): Linear(in_features=100, out_features=100, bias=True)\n",
      "    (activation_55): Tanh()\n",
      "    (layer_56): Linear(in_features=100, out_features=100, bias=True)\n",
      "    (activation_56): Tanh()\n",
      "    (layer_57): Linear(in_features=100, out_features=100, bias=True)\n",
      "    (activation_57): Tanh()\n",
      "    (layer_58): Linear(in_features=100, out_features=100, bias=True)\n",
      "    (activation_58): Tanh()\n",
      "    (layer_59): Linear(in_features=100, out_features=100, bias=True)\n",
      "    (activation_59): Tanh()\n",
      "    (layer_60): Linear(in_features=100, out_features=100, bias=True)\n",
      "    (activation_60): Tanh()\n",
      "    (layer_61): Linear(in_features=100, out_features=100, bias=True)\n",
      "    (activation_61): Tanh()\n",
      "    (layer_62): Linear(in_features=100, out_features=100, bias=True)\n",
      "    (activation_62): Tanh()\n",
      "    (layer_63): Linear(in_features=100, out_features=100, bias=True)\n",
      "    (activation_63): Tanh()\n",
      "    (layer_64): Linear(in_features=100, out_features=100, bias=True)\n",
      "    (activation_64): Tanh()\n",
      "    (layer_65): Linear(in_features=100, out_features=100, bias=True)\n",
      "    (activation_65): Tanh()\n",
      "    (layer_66): Linear(in_features=100, out_features=100, bias=True)\n",
      "    (activation_66): Tanh()\n",
      "    (layer_67): Linear(in_features=100, out_features=100, bias=True)\n",
      "    (activation_67): Tanh()\n",
      "    (layer_68): Linear(in_features=100, out_features=100, bias=True)\n",
      "    (activation_68): Tanh()\n",
      "    (layer_69): Linear(in_features=100, out_features=100, bias=True)\n",
      "    (activation_69): Tanh()\n",
      "    (layer_70): Linear(in_features=100, out_features=100, bias=True)\n",
      "    (activation_70): Tanh()\n",
      "    (layer_71): Linear(in_features=100, out_features=100, bias=True)\n",
      "    (activation_71): Tanh()\n",
      "    (layer_72): Linear(in_features=100, out_features=100, bias=True)\n",
      "    (activation_72): Tanh()\n",
      "    (layer_73): Linear(in_features=100, out_features=100, bias=True)\n",
      "    (activation_73): Tanh()\n",
      "    (layer_74): Linear(in_features=100, out_features=100, bias=True)\n",
      "    (activation_74): Tanh()\n",
      "    (layer_75): Linear(in_features=100, out_features=100, bias=True)\n",
      "    (activation_75): Tanh()\n",
      "    (layer_76): Linear(in_features=100, out_features=100, bias=True)\n",
      "    (activation_76): Tanh()\n",
      "    (layer_77): Linear(in_features=100, out_features=100, bias=True)\n",
      "    (activation_77): Tanh()\n",
      "    (layer_78): Linear(in_features=100, out_features=100, bias=True)\n",
      "    (activation_78): Tanh()\n",
      "    (layer_79): Linear(in_features=100, out_features=100, bias=True)\n",
      "    (activation_79): Tanh()\n",
      "    (layer_80): Linear(in_features=100, out_features=100, bias=True)\n",
      "    (activation_80): Tanh()\n",
      "    (layer_81): Linear(in_features=100, out_features=100, bias=True)\n",
      "    (activation_81): Tanh()\n",
      "    (layer_82): Linear(in_features=100, out_features=100, bias=True)\n",
      "    (activation_82): Tanh()\n",
      "    (layer_83): Linear(in_features=100, out_features=100, bias=True)\n",
      "    (activation_83): Tanh()\n",
      "    (layer_84): Linear(in_features=100, out_features=100, bias=True)\n",
      "    (activation_84): Tanh()\n",
      "    (layer_85): Linear(in_features=100, out_features=100, bias=True)\n",
      "    (activation_85): Tanh()\n",
      "    (layer_86): Linear(in_features=100, out_features=100, bias=True)\n",
      "    (activation_86): Tanh()\n",
      "    (layer_87): Linear(in_features=100, out_features=100, bias=True)\n",
      "    (activation_87): Tanh()\n",
      "    (layer_88): Linear(in_features=100, out_features=100, bias=True)\n",
      "    (activation_88): Tanh()\n",
      "    (layer_89): Linear(in_features=100, out_features=100, bias=True)\n",
      "    (activation_89): Tanh()\n",
      "    (layer_90): Linear(in_features=100, out_features=100, bias=True)\n",
      "    (activation_90): Tanh()\n",
      "    (layer_91): Linear(in_features=100, out_features=100, bias=True)\n",
      "    (activation_91): Tanh()\n",
      "    (layer_92): Linear(in_features=100, out_features=100, bias=True)\n",
      "    (activation_92): Tanh()\n",
      "    (layer_93): Linear(in_features=100, out_features=100, bias=True)\n",
      "    (activation_93): Tanh()\n",
      "    (layer_94): Linear(in_features=100, out_features=100, bias=True)\n",
      "    (activation_94): Tanh()\n",
      "    (layer_95): Linear(in_features=100, out_features=100, bias=True)\n",
      "    (activation_95): Tanh()\n",
      "    (layer_96): Linear(in_features=100, out_features=100, bias=True)\n",
      "    (activation_96): Tanh()\n",
      "    (layer_97): Linear(in_features=100, out_features=100, bias=True)\n",
      "    (activation_97): Tanh()\n",
      "    (layer_98): Linear(in_features=100, out_features=100, bias=True)\n",
      "    (activation_98): Tanh()\n",
      "    (layer_99): Linear(in_features=100, out_features=100, bias=True)\n",
      "    (activation_99): Tanh()\n",
      "    (layer_100): Linear(in_features=100, out_features=1, bias=True)\n",
      "  )\n",
      ")\n"
     ]
    }
   ],
   "source": [
    "print(model)"
   ],
   "metadata": {
    "collapsed": false,
    "ExecuteTime": {
     "end_time": "2023-10-02T05:35:15.259432Z",
     "start_time": "2023-10-02T05:35:15.250966Z"
    }
   },
   "id": "a41de78423e77771"
  },
  {
   "cell_type": "code",
   "execution_count": 13,
   "id": "842926c4",
   "metadata": {
    "ExecuteTime": {
     "end_time": "2023-10-02T05:34:53.539894Z",
     "start_time": "2023-10-02T05:34:45.450912Z"
    }
   },
   "outputs": [
    {
     "name": "stdout",
     "output_type": "stream",
     "text": [
      "torch.Size([64, 2])\n",
      "Epoch [1/100], Step [1/2834], Loss: 1199.8715\n",
      "torch.Size([64, 2])\n",
      "torch.Size([64, 2])\n",
      "torch.Size([64, 2])\n",
      "torch.Size([64, 2])\n",
      "torch.Size([64, 2])\n",
      "torch.Size([64, 2])\n",
      "torch.Size([64, 2])\n",
      "torch.Size([64, 2])\n",
      "torch.Size([64, 2])\n",
      "torch.Size([64, 2])\n",
      "torch.Size([64, 2])\n",
      "torch.Size([64, 2])\n",
      "torch.Size([64, 2])\n",
      "torch.Size([64, 2])\n",
      "torch.Size([64, 2])\n",
      "torch.Size([64, 2])\n",
      "torch.Size([64, 2])\n",
      "torch.Size([64, 2])\n",
      "torch.Size([64, 2])\n",
      "torch.Size([64, 2])\n",
      "torch.Size([64, 2])\n",
      "torch.Size([64, 2])\n",
      "torch.Size([64, 2])\n",
      "torch.Size([64, 2])\n",
      "torch.Size([64, 2])\n",
      "torch.Size([64, 2])\n",
      "torch.Size([64, 2])\n",
      "torch.Size([64, 2])\n",
      "torch.Size([64, 2])\n",
      "torch.Size([64, 2])\n",
      "torch.Size([64, 2])\n",
      "torch.Size([64, 2])\n",
      "torch.Size([64, 2])\n",
      "torch.Size([64, 2])\n",
      "torch.Size([64, 2])\n",
      "torch.Size([64, 2])\n",
      "torch.Size([64, 2])\n",
      "torch.Size([64, 2])\n",
      "torch.Size([64, 2])\n",
      "torch.Size([64, 2])\n",
      "torch.Size([64, 2])\n",
      "torch.Size([64, 2])\n",
      "torch.Size([64, 2])\n",
      "torch.Size([64, 2])\n",
      "torch.Size([64, 2])\n",
      "torch.Size([64, 2])\n",
      "torch.Size([64, 2])\n",
      "torch.Size([64, 2])\n",
      "torch.Size([64, 2])\n",
      "torch.Size([64, 2])\n",
      "torch.Size([64, 2])\n",
      "torch.Size([64, 2])\n",
      "torch.Size([64, 2])\n",
      "torch.Size([64, 2])\n",
      "torch.Size([64, 2])\n",
      "torch.Size([64, 2])\n",
      "torch.Size([64, 2])\n",
      "torch.Size([64, 2])\n",
      "torch.Size([64, 2])\n",
      "torch.Size([64, 2])\n",
      "torch.Size([64, 2])\n",
      "torch.Size([64, 2])\n",
      "torch.Size([64, 2])\n",
      "torch.Size([64, 2])\n",
      "torch.Size([64, 2])\n",
      "torch.Size([64, 2])\n",
      "torch.Size([64, 2])\n",
      "torch.Size([64, 2])\n",
      "torch.Size([64, 2])\n",
      "torch.Size([64, 2])\n",
      "torch.Size([64, 2])\n",
      "torch.Size([64, 2])\n",
      "torch.Size([64, 2])\n",
      "torch.Size([64, 2])\n",
      "torch.Size([64, 2])\n",
      "torch.Size([64, 2])\n",
      "torch.Size([64, 2])\n",
      "torch.Size([64, 2])\n",
      "torch.Size([64, 2])\n",
      "torch.Size([64, 2])\n",
      "torch.Size([64, 2])\n",
      "torch.Size([64, 2])\n",
      "torch.Size([64, 2])\n",
      "torch.Size([64, 2])\n",
      "torch.Size([64, 2])\n",
      "torch.Size([64, 2])\n",
      "torch.Size([64, 2])\n",
      "torch.Size([64, 2])\n",
      "torch.Size([64, 2])\n",
      "torch.Size([64, 2])\n",
      "torch.Size([64, 2])\n",
      "torch.Size([64, 2])\n",
      "torch.Size([64, 2])\n",
      "torch.Size([64, 2])\n",
      "torch.Size([64, 2])\n",
      "torch.Size([64, 2])\n",
      "torch.Size([64, 2])\n",
      "torch.Size([64, 2])\n",
      "torch.Size([64, 2])\n",
      "torch.Size([64, 2])\n",
      "torch.Size([64, 2])\n",
      "torch.Size([64, 2])\n",
      "torch.Size([64, 2])\n",
      "torch.Size([64, 2])\n",
      "torch.Size([64, 2])\n",
      "torch.Size([64, 2])\n",
      "torch.Size([64, 2])\n",
      "torch.Size([64, 2])\n",
      "torch.Size([64, 2])\n",
      "torch.Size([64, 2])\n",
      "torch.Size([64, 2])\n",
      "torch.Size([64, 2])\n",
      "torch.Size([64, 2])\n",
      "torch.Size([64, 2])\n",
      "torch.Size([64, 2])\n",
      "torch.Size([64, 2])\n",
      "torch.Size([64, 2])\n",
      "torch.Size([64, 2])\n",
      "torch.Size([64, 2])\n",
      "torch.Size([64, 2])\n",
      "torch.Size([64, 2])\n",
      "torch.Size([64, 2])\n",
      "torch.Size([64, 2])\n",
      "torch.Size([64, 2])\n",
      "torch.Size([64, 2])\n",
      "torch.Size([64, 2])\n",
      "torch.Size([64, 2])\n",
      "torch.Size([64, 2])\n",
      "torch.Size([64, 2])\n",
      "torch.Size([64, 2])\n",
      "torch.Size([64, 2])\n",
      "torch.Size([64, 2])\n",
      "torch.Size([64, 2])\n",
      "torch.Size([64, 2])\n",
      "torch.Size([64, 2])\n",
      "torch.Size([64, 2])\n",
      "torch.Size([64, 2])\n",
      "torch.Size([64, 2])\n",
      "torch.Size([64, 2])\n",
      "torch.Size([64, 2])\n",
      "torch.Size([64, 2])\n",
      "torch.Size([64, 2])\n",
      "torch.Size([64, 2])\n",
      "torch.Size([64, 2])\n",
      "torch.Size([64, 2])\n",
      "torch.Size([64, 2])\n",
      "torch.Size([64, 2])\n",
      "torch.Size([64, 2])\n",
      "torch.Size([64, 2])\n",
      "torch.Size([64, 2])\n",
      "torch.Size([64, 2])\n",
      "torch.Size([64, 2])\n",
      "torch.Size([64, 2])\n",
      "torch.Size([64, 2])\n",
      "torch.Size([64, 2])\n",
      "torch.Size([64, 2])\n",
      "torch.Size([64, 2])\n",
      "torch.Size([64, 2])\n",
      "torch.Size([64, 2])\n",
      "torch.Size([64, 2])\n",
      "torch.Size([64, 2])\n",
      "torch.Size([64, 2])\n",
      "torch.Size([64, 2])\n",
      "torch.Size([64, 2])\n",
      "torch.Size([64, 2])\n",
      "torch.Size([64, 2])\n",
      "torch.Size([64, 2])\n",
      "torch.Size([64, 2])\n",
      "torch.Size([64, 2])\n",
      "torch.Size([64, 2])\n",
      "torch.Size([64, 2])\n",
      "torch.Size([64, 2])\n",
      "torch.Size([64, 2])\n",
      "torch.Size([64, 2])\n",
      "torch.Size([64, 2])\n",
      "torch.Size([64, 2])\n",
      "torch.Size([64, 2])\n",
      "torch.Size([64, 2])\n",
      "torch.Size([64, 2])\n",
      "torch.Size([64, 2])\n",
      "torch.Size([64, 2])\n",
      "torch.Size([64, 2])\n",
      "torch.Size([64, 2])\n",
      "torch.Size([64, 2])\n",
      "torch.Size([64, 2])\n",
      "torch.Size([64, 2])\n",
      "torch.Size([64, 2])\n",
      "torch.Size([64, 2])\n",
      "torch.Size([64, 2])\n",
      "torch.Size([64, 2])\n",
      "torch.Size([64, 2])\n",
      "torch.Size([64, 2])\n",
      "torch.Size([64, 2])\n",
      "torch.Size([64, 2])\n",
      "torch.Size([64, 2])\n",
      "torch.Size([64, 2])\n",
      "torch.Size([64, 2])\n",
      "torch.Size([64, 2])\n",
      "torch.Size([64, 2])\n",
      "torch.Size([64, 2])\n",
      "torch.Size([64, 2])\n",
      "torch.Size([64, 2])\n",
      "torch.Size([64, 2])\n",
      "torch.Size([64, 2])\n",
      "torch.Size([64, 2])\n",
      "torch.Size([64, 2])\n",
      "torch.Size([64, 2])\n",
      "torch.Size([64, 2])\n",
      "torch.Size([64, 2])\n",
      "torch.Size([64, 2])\n",
      "torch.Size([64, 2])\n",
      "torch.Size([64, 2])\n",
      "torch.Size([64, 2])\n",
      "torch.Size([64, 2])\n",
      "torch.Size([64, 2])\n",
      "torch.Size([64, 2])\n",
      "torch.Size([64, 2])\n",
      "torch.Size([64, 2])\n",
      "torch.Size([64, 2])\n",
      "torch.Size([64, 2])\n",
      "torch.Size([64, 2])\n",
      "torch.Size([64, 2])\n",
      "torch.Size([64, 2])\n",
      "torch.Size([64, 2])\n",
      "torch.Size([64, 2])\n",
      "torch.Size([64, 2])\n",
      "torch.Size([64, 2])\n",
      "torch.Size([64, 2])\n",
      "torch.Size([64, 2])\n",
      "torch.Size([64, 2])\n",
      "torch.Size([64, 2])\n",
      "torch.Size([64, 2])\n",
      "torch.Size([64, 2])\n",
      "torch.Size([64, 2])\n",
      "torch.Size([64, 2])\n",
      "torch.Size([64, 2])\n",
      "torch.Size([64, 2])\n",
      "torch.Size([64, 2])\n",
      "torch.Size([64, 2])\n",
      "torch.Size([64, 2])\n",
      "torch.Size([64, 2])\n",
      "torch.Size([64, 2])\n",
      "torch.Size([64, 2])\n",
      "torch.Size([64, 2])\n",
      "torch.Size([64, 2])\n",
      "torch.Size([64, 2])\n",
      "torch.Size([64, 2])\n",
      "torch.Size([64, 2])\n",
      "torch.Size([64, 2])\n",
      "torch.Size([64, 2])\n",
      "torch.Size([64, 2])\n",
      "torch.Size([64, 2])\n",
      "torch.Size([64, 2])\n",
      "torch.Size([64, 2])\n",
      "torch.Size([64, 2])\n",
      "torch.Size([64, 2])\n",
      "torch.Size([64, 2])\n",
      "torch.Size([64, 2])\n",
      "torch.Size([64, 2])\n",
      "torch.Size([64, 2])\n",
      "torch.Size([64, 2])\n",
      "torch.Size([64, 2])\n",
      "torch.Size([64, 2])\n",
      "torch.Size([64, 2])\n",
      "torch.Size([64, 2])\n",
      "torch.Size([64, 2])\n",
      "torch.Size([64, 2])\n",
      "torch.Size([64, 2])\n",
      "torch.Size([64, 2])\n",
      "torch.Size([64, 2])\n",
      "torch.Size([64, 2])\n",
      "torch.Size([64, 2])\n",
      "torch.Size([64, 2])\n",
      "torch.Size([64, 2])\n",
      "torch.Size([64, 2])\n",
      "torch.Size([64, 2])\n",
      "torch.Size([64, 2])\n",
      "torch.Size([64, 2])\n",
      "torch.Size([64, 2])\n",
      "torch.Size([64, 2])\n",
      "torch.Size([64, 2])\n",
      "torch.Size([64, 2])\n",
      "torch.Size([64, 2])\n",
      "torch.Size([64, 2])\n",
      "torch.Size([64, 2])\n",
      "torch.Size([64, 2])\n",
      "torch.Size([64, 2])\n",
      "torch.Size([64, 2])\n",
      "torch.Size([64, 2])\n",
      "torch.Size([64, 2])\n",
      "torch.Size([64, 2])\n",
      "torch.Size([64, 2])\n",
      "torch.Size([64, 2])\n",
      "torch.Size([64, 2])\n",
      "torch.Size([64, 2])\n",
      "torch.Size([64, 2])\n",
      "torch.Size([64, 2])\n",
      "torch.Size([64, 2])\n",
      "torch.Size([64, 2])\n",
      "torch.Size([64, 2])\n",
      "torch.Size([64, 2])\n",
      "torch.Size([64, 2])\n",
      "torch.Size([64, 2])\n",
      "torch.Size([64, 2])\n",
      "torch.Size([64, 2])\n",
      "torch.Size([64, 2])\n",
      "torch.Size([64, 2])\n",
      "torch.Size([64, 2])\n",
      "torch.Size([64, 2])\n",
      "torch.Size([64, 2])\n",
      "torch.Size([64, 2])\n",
      "torch.Size([64, 2])\n",
      "torch.Size([64, 2])\n",
      "torch.Size([64, 2])\n",
      "torch.Size([64, 2])\n",
      "torch.Size([64, 2])\n",
      "torch.Size([64, 2])\n",
      "torch.Size([64, 2])\n",
      "torch.Size([64, 2])\n",
      "torch.Size([64, 2])\n",
      "torch.Size([64, 2])\n",
      "torch.Size([64, 2])\n",
      "torch.Size([64, 2])\n",
      "torch.Size([64, 2])\n",
      "torch.Size([64, 2])\n",
      "torch.Size([64, 2])\n",
      "torch.Size([64, 2])\n",
      "torch.Size([64, 2])\n",
      "torch.Size([64, 2])\n",
      "torch.Size([64, 2])\n",
      "torch.Size([64, 2])\n",
      "torch.Size([64, 2])\n",
      "torch.Size([64, 2])\n",
      "torch.Size([64, 2])\n",
      "torch.Size([64, 2])\n",
      "torch.Size([64, 2])\n",
      "torch.Size([64, 2])\n",
      "torch.Size([64, 2])\n",
      "torch.Size([64, 2])\n",
      "torch.Size([64, 2])\n",
      "torch.Size([64, 2])\n",
      "torch.Size([64, 2])\n",
      "torch.Size([64, 2])\n",
      "torch.Size([64, 2])\n",
      "torch.Size([64, 2])\n",
      "torch.Size([64, 2])\n",
      "torch.Size([64, 2])\n",
      "torch.Size([64, 2])\n",
      "torch.Size([64, 2])\n",
      "torch.Size([64, 2])\n",
      "torch.Size([64, 2])\n",
      "torch.Size([64, 2])\n",
      "torch.Size([64, 2])\n",
      "torch.Size([64, 2])\n",
      "torch.Size([64, 2])\n",
      "torch.Size([64, 2])\n",
      "torch.Size([64, 2])\n",
      "torch.Size([64, 2])\n",
      "torch.Size([64, 2])\n",
      "torch.Size([64, 2])\n",
      "torch.Size([64, 2])\n",
      "torch.Size([64, 2])\n",
      "torch.Size([64, 2])\n",
      "torch.Size([64, 2])\n",
      "torch.Size([64, 2])\n",
      "torch.Size([64, 2])\n",
      "torch.Size([64, 2])\n",
      "torch.Size([64, 2])\n",
      "torch.Size([64, 2])\n",
      "torch.Size([64, 2])\n",
      "torch.Size([64, 2])\n",
      "torch.Size([64, 2])\n",
      "torch.Size([64, 2])\n",
      "torch.Size([64, 2])\n",
      "torch.Size([64, 2])\n",
      "torch.Size([64, 2])\n",
      "torch.Size([64, 2])\n",
      "torch.Size([64, 2])\n",
      "torch.Size([64, 2])\n",
      "torch.Size([64, 2])\n",
      "torch.Size([64, 2])\n",
      "torch.Size([64, 2])\n",
      "torch.Size([64, 2])\n",
      "torch.Size([64, 2])\n",
      "torch.Size([64, 2])\n",
      "torch.Size([64, 2])\n",
      "torch.Size([64, 2])\n",
      "torch.Size([64, 2])\n",
      "torch.Size([64, 2])\n",
      "torch.Size([64, 2])\n",
      "torch.Size([64, 2])\n",
      "torch.Size([64, 2])\n",
      "torch.Size([64, 2])\n",
      "torch.Size([64, 2])\n",
      "torch.Size([64, 2])\n",
      "torch.Size([64, 2])\n",
      "torch.Size([64, 2])\n",
      "torch.Size([64, 2])\n",
      "torch.Size([64, 2])\n",
      "torch.Size([64, 2])\n",
      "torch.Size([64, 2])\n",
      "torch.Size([64, 2])\n",
      "torch.Size([64, 2])\n",
      "torch.Size([64, 2])\n",
      "torch.Size([64, 2])\n",
      "torch.Size([64, 2])\n",
      "torch.Size([64, 2])\n",
      "torch.Size([64, 2])\n",
      "torch.Size([64, 2])\n",
      "torch.Size([64, 2])\n",
      "torch.Size([64, 2])\n",
      "torch.Size([64, 2])\n",
      "torch.Size([64, 2])\n",
      "torch.Size([64, 2])\n",
      "torch.Size([64, 2])\n",
      "torch.Size([64, 2])\n",
      "torch.Size([64, 2])\n",
      "torch.Size([64, 2])\n",
      "torch.Size([64, 2])\n",
      "torch.Size([64, 2])\n",
      "torch.Size([64, 2])\n",
      "torch.Size([64, 2])\n",
      "torch.Size([64, 2])\n",
      "torch.Size([64, 2])\n",
      "torch.Size([64, 2])\n",
      "torch.Size([64, 2])\n",
      "torch.Size([64, 2])\n",
      "torch.Size([64, 2])\n",
      "torch.Size([64, 2])\n",
      "torch.Size([64, 2])\n",
      "torch.Size([64, 2])\n",
      "torch.Size([64, 2])\n",
      "torch.Size([64, 2])\n",
      "torch.Size([64, 2])\n",
      "torch.Size([64, 2])\n",
      "torch.Size([64, 2])\n",
      "torch.Size([64, 2])\n",
      "torch.Size([64, 2])\n",
      "torch.Size([64, 2])\n",
      "torch.Size([64, 2])\n",
      "torch.Size([64, 2])\n",
      "torch.Size([64, 2])\n",
      "torch.Size([64, 2])\n",
      "torch.Size([64, 2])\n",
      "torch.Size([64, 2])\n",
      "torch.Size([64, 2])\n",
      "torch.Size([64, 2])\n",
      "torch.Size([64, 2])\n",
      "torch.Size([64, 2])\n",
      "torch.Size([64, 2])\n",
      "torch.Size([64, 2])\n",
      "torch.Size([64, 2])\n",
      "torch.Size([64, 2])\n",
      "torch.Size([64, 2])\n",
      "torch.Size([64, 2])\n",
      "torch.Size([64, 2])\n",
      "torch.Size([64, 2])\n",
      "torch.Size([64, 2])\n",
      "torch.Size([64, 2])\n",
      "torch.Size([64, 2])\n",
      "torch.Size([64, 2])\n",
      "torch.Size([64, 2])\n",
      "torch.Size([64, 2])\n",
      "torch.Size([64, 2])\n",
      "torch.Size([64, 2])\n",
      "torch.Size([64, 2])\n",
      "torch.Size([64, 2])\n",
      "torch.Size([64, 2])\n",
      "torch.Size([64, 2])\n",
      "torch.Size([64, 2])\n",
      "torch.Size([64, 2])\n",
      "torch.Size([64, 2])\n",
      "torch.Size([64, 2])\n",
      "torch.Size([64, 2])\n",
      "torch.Size([64, 2])\n",
      "torch.Size([64, 2])\n",
      "torch.Size([64, 2])\n"
     ]
    },
    {
     "ename": "KeyboardInterrupt",
     "evalue": "",
     "output_type": "error",
     "traceback": [
      "\u001B[0;31m---------------------------------------------------------------------------\u001B[0m",
      "\u001B[0;31mKeyboardInterrupt\u001B[0m                         Traceback (most recent call last)",
      "Cell \u001B[0;32mIn[13], line 16\u001B[0m\n\u001B[1;32m     14\u001B[0m optimizer\u001B[38;5;241m.\u001B[39mzero_grad()\n\u001B[1;32m     15\u001B[0m loss\u001B[38;5;241m.\u001B[39mbackward()\n\u001B[0;32m---> 16\u001B[0m \u001B[43moptimizer\u001B[49m\u001B[38;5;241;43m.\u001B[39;49m\u001B[43mstep\u001B[49m\u001B[43m(\u001B[49m\u001B[43m)\u001B[49m\n\u001B[1;32m     18\u001B[0m \u001B[38;5;28;01mif\u001B[39;00m i \u001B[38;5;241m==\u001B[39m \u001B[38;5;241m0\u001B[39m:\n\u001B[1;32m     19\u001B[0m     \u001B[38;5;28mprint\u001B[39m(\u001B[38;5;124mf\u001B[39m\u001B[38;5;124m'\u001B[39m\u001B[38;5;124mEpoch [\u001B[39m\u001B[38;5;132;01m{\u001B[39;00mepoch\u001B[38;5;241m+\u001B[39m\u001B[38;5;241m1\u001B[39m\u001B[38;5;132;01m}\u001B[39;00m\u001B[38;5;124m/\u001B[39m\u001B[38;5;132;01m{\u001B[39;00mepochs\u001B[38;5;132;01m}\u001B[39;00m\u001B[38;5;124m], Step [\u001B[39m\u001B[38;5;132;01m{\u001B[39;00mi\u001B[38;5;241m+\u001B[39m\u001B[38;5;241m1\u001B[39m\u001B[38;5;132;01m}\u001B[39;00m\u001B[38;5;124m/\u001B[39m\u001B[38;5;132;01m{\u001B[39;00mtotal_steps\u001B[38;5;132;01m}\u001B[39;00m\u001B[38;5;124m], Loss: \u001B[39m\u001B[38;5;132;01m{\u001B[39;00mloss\u001B[38;5;241m.\u001B[39mitem()\u001B[38;5;132;01m:\u001B[39;00m\u001B[38;5;124m.4f\u001B[39m\u001B[38;5;132;01m}\u001B[39;00m\u001B[38;5;124m'\u001B[39m)\n",
      "File \u001B[0;32m~/miniconda/lib/python3.10/site-packages/torch/optim/optimizer.py:280\u001B[0m, in \u001B[0;36mOptimizer.profile_hook_step.<locals>.wrapper\u001B[0;34m(*args, **kwargs)\u001B[0m\n\u001B[1;32m    276\u001B[0m         \u001B[38;5;28;01melse\u001B[39;00m:\n\u001B[1;32m    277\u001B[0m             \u001B[38;5;28;01mraise\u001B[39;00m \u001B[38;5;167;01mRuntimeError\u001B[39;00m(\u001B[38;5;124mf\u001B[39m\u001B[38;5;124m\"\u001B[39m\u001B[38;5;132;01m{\u001B[39;00mfunc\u001B[38;5;132;01m}\u001B[39;00m\u001B[38;5;124m must return None or a tuple of (new_args, new_kwargs),\u001B[39m\u001B[38;5;124m\"\u001B[39m\n\u001B[1;32m    278\u001B[0m                                \u001B[38;5;124mf\u001B[39m\u001B[38;5;124m\"\u001B[39m\u001B[38;5;124mbut got \u001B[39m\u001B[38;5;132;01m{\u001B[39;00mresult\u001B[38;5;132;01m}\u001B[39;00m\u001B[38;5;124m.\u001B[39m\u001B[38;5;124m\"\u001B[39m)\n\u001B[0;32m--> 280\u001B[0m out \u001B[38;5;241m=\u001B[39m \u001B[43mfunc\u001B[49m\u001B[43m(\u001B[49m\u001B[38;5;241;43m*\u001B[39;49m\u001B[43margs\u001B[49m\u001B[43m,\u001B[49m\u001B[43m \u001B[49m\u001B[38;5;241;43m*\u001B[39;49m\u001B[38;5;241;43m*\u001B[39;49m\u001B[43mkwargs\u001B[49m\u001B[43m)\u001B[49m\n\u001B[1;32m    281\u001B[0m \u001B[38;5;28mself\u001B[39m\u001B[38;5;241m.\u001B[39m_optimizer_step_code()\n\u001B[1;32m    283\u001B[0m \u001B[38;5;66;03m# call optimizer step post hooks\u001B[39;00m\n",
      "File \u001B[0;32m~/miniconda/lib/python3.10/site-packages/torch/optim/optimizer.py:33\u001B[0m, in \u001B[0;36m_use_grad_for_differentiable.<locals>._use_grad\u001B[0;34m(self, *args, **kwargs)\u001B[0m\n\u001B[1;32m     31\u001B[0m \u001B[38;5;28;01mtry\u001B[39;00m:\n\u001B[1;32m     32\u001B[0m     torch\u001B[38;5;241m.\u001B[39mset_grad_enabled(\u001B[38;5;28mself\u001B[39m\u001B[38;5;241m.\u001B[39mdefaults[\u001B[38;5;124m'\u001B[39m\u001B[38;5;124mdifferentiable\u001B[39m\u001B[38;5;124m'\u001B[39m])\n\u001B[0;32m---> 33\u001B[0m     ret \u001B[38;5;241m=\u001B[39m \u001B[43mfunc\u001B[49m\u001B[43m(\u001B[49m\u001B[38;5;28;43mself\u001B[39;49m\u001B[43m,\u001B[49m\u001B[43m \u001B[49m\u001B[38;5;241;43m*\u001B[39;49m\u001B[43margs\u001B[49m\u001B[43m,\u001B[49m\u001B[43m \u001B[49m\u001B[38;5;241;43m*\u001B[39;49m\u001B[38;5;241;43m*\u001B[39;49m\u001B[43mkwargs\u001B[49m\u001B[43m)\u001B[49m\n\u001B[1;32m     34\u001B[0m \u001B[38;5;28;01mfinally\u001B[39;00m:\n\u001B[1;32m     35\u001B[0m     torch\u001B[38;5;241m.\u001B[39mset_grad_enabled(prev_grad)\n",
      "File \u001B[0;32m~/miniconda/lib/python3.10/site-packages/torch/optim/adam.py:141\u001B[0m, in \u001B[0;36mAdam.step\u001B[0;34m(self, closure)\u001B[0m\n\u001B[1;32m    130\u001B[0m     beta1, beta2 \u001B[38;5;241m=\u001B[39m group[\u001B[38;5;124m'\u001B[39m\u001B[38;5;124mbetas\u001B[39m\u001B[38;5;124m'\u001B[39m]\n\u001B[1;32m    132\u001B[0m     \u001B[38;5;28mself\u001B[39m\u001B[38;5;241m.\u001B[39m_init_group(\n\u001B[1;32m    133\u001B[0m         group,\n\u001B[1;32m    134\u001B[0m         params_with_grad,\n\u001B[0;32m   (...)\u001B[0m\n\u001B[1;32m    138\u001B[0m         max_exp_avg_sqs,\n\u001B[1;32m    139\u001B[0m         state_steps)\n\u001B[0;32m--> 141\u001B[0m     \u001B[43madam\u001B[49m\u001B[43m(\u001B[49m\n\u001B[1;32m    142\u001B[0m \u001B[43m        \u001B[49m\u001B[43mparams_with_grad\u001B[49m\u001B[43m,\u001B[49m\n\u001B[1;32m    143\u001B[0m \u001B[43m        \u001B[49m\u001B[43mgrads\u001B[49m\u001B[43m,\u001B[49m\n\u001B[1;32m    144\u001B[0m \u001B[43m        \u001B[49m\u001B[43mexp_avgs\u001B[49m\u001B[43m,\u001B[49m\n\u001B[1;32m    145\u001B[0m \u001B[43m        \u001B[49m\u001B[43mexp_avg_sqs\u001B[49m\u001B[43m,\u001B[49m\n\u001B[1;32m    146\u001B[0m \u001B[43m        \u001B[49m\u001B[43mmax_exp_avg_sqs\u001B[49m\u001B[43m,\u001B[49m\n\u001B[1;32m    147\u001B[0m \u001B[43m        \u001B[49m\u001B[43mstate_steps\u001B[49m\u001B[43m,\u001B[49m\n\u001B[1;32m    148\u001B[0m \u001B[43m        \u001B[49m\u001B[43mamsgrad\u001B[49m\u001B[38;5;241;43m=\u001B[39;49m\u001B[43mgroup\u001B[49m\u001B[43m[\u001B[49m\u001B[38;5;124;43m'\u001B[39;49m\u001B[38;5;124;43mamsgrad\u001B[39;49m\u001B[38;5;124;43m'\u001B[39;49m\u001B[43m]\u001B[49m\u001B[43m,\u001B[49m\n\u001B[1;32m    149\u001B[0m \u001B[43m        \u001B[49m\u001B[43mbeta1\u001B[49m\u001B[38;5;241;43m=\u001B[39;49m\u001B[43mbeta1\u001B[49m\u001B[43m,\u001B[49m\n\u001B[1;32m    150\u001B[0m \u001B[43m        \u001B[49m\u001B[43mbeta2\u001B[49m\u001B[38;5;241;43m=\u001B[39;49m\u001B[43mbeta2\u001B[49m\u001B[43m,\u001B[49m\n\u001B[1;32m    151\u001B[0m \u001B[43m        \u001B[49m\u001B[43mlr\u001B[49m\u001B[38;5;241;43m=\u001B[39;49m\u001B[43mgroup\u001B[49m\u001B[43m[\u001B[49m\u001B[38;5;124;43m'\u001B[39;49m\u001B[38;5;124;43mlr\u001B[39;49m\u001B[38;5;124;43m'\u001B[39;49m\u001B[43m]\u001B[49m\u001B[43m,\u001B[49m\n\u001B[1;32m    152\u001B[0m \u001B[43m        \u001B[49m\u001B[43mweight_decay\u001B[49m\u001B[38;5;241;43m=\u001B[39;49m\u001B[43mgroup\u001B[49m\u001B[43m[\u001B[49m\u001B[38;5;124;43m'\u001B[39;49m\u001B[38;5;124;43mweight_decay\u001B[39;49m\u001B[38;5;124;43m'\u001B[39;49m\u001B[43m]\u001B[49m\u001B[43m,\u001B[49m\n\u001B[1;32m    153\u001B[0m \u001B[43m        \u001B[49m\u001B[43meps\u001B[49m\u001B[38;5;241;43m=\u001B[39;49m\u001B[43mgroup\u001B[49m\u001B[43m[\u001B[49m\u001B[38;5;124;43m'\u001B[39;49m\u001B[38;5;124;43meps\u001B[39;49m\u001B[38;5;124;43m'\u001B[39;49m\u001B[43m]\u001B[49m\u001B[43m,\u001B[49m\n\u001B[1;32m    154\u001B[0m \u001B[43m        \u001B[49m\u001B[43mmaximize\u001B[49m\u001B[38;5;241;43m=\u001B[39;49m\u001B[43mgroup\u001B[49m\u001B[43m[\u001B[49m\u001B[38;5;124;43m'\u001B[39;49m\u001B[38;5;124;43mmaximize\u001B[39;49m\u001B[38;5;124;43m'\u001B[39;49m\u001B[43m]\u001B[49m\u001B[43m,\u001B[49m\n\u001B[1;32m    155\u001B[0m \u001B[43m        \u001B[49m\u001B[43mforeach\u001B[49m\u001B[38;5;241;43m=\u001B[39;49m\u001B[43mgroup\u001B[49m\u001B[43m[\u001B[49m\u001B[38;5;124;43m'\u001B[39;49m\u001B[38;5;124;43mforeach\u001B[39;49m\u001B[38;5;124;43m'\u001B[39;49m\u001B[43m]\u001B[49m\u001B[43m,\u001B[49m\n\u001B[1;32m    156\u001B[0m \u001B[43m        \u001B[49m\u001B[43mcapturable\u001B[49m\u001B[38;5;241;43m=\u001B[39;49m\u001B[43mgroup\u001B[49m\u001B[43m[\u001B[49m\u001B[38;5;124;43m'\u001B[39;49m\u001B[38;5;124;43mcapturable\u001B[39;49m\u001B[38;5;124;43m'\u001B[39;49m\u001B[43m]\u001B[49m\u001B[43m,\u001B[49m\n\u001B[1;32m    157\u001B[0m \u001B[43m        \u001B[49m\u001B[43mdifferentiable\u001B[49m\u001B[38;5;241;43m=\u001B[39;49m\u001B[43mgroup\u001B[49m\u001B[43m[\u001B[49m\u001B[38;5;124;43m'\u001B[39;49m\u001B[38;5;124;43mdifferentiable\u001B[39;49m\u001B[38;5;124;43m'\u001B[39;49m\u001B[43m]\u001B[49m\u001B[43m,\u001B[49m\n\u001B[1;32m    158\u001B[0m \u001B[43m        \u001B[49m\u001B[43mfused\u001B[49m\u001B[38;5;241;43m=\u001B[39;49m\u001B[43mgroup\u001B[49m\u001B[43m[\u001B[49m\u001B[38;5;124;43m'\u001B[39;49m\u001B[38;5;124;43mfused\u001B[39;49m\u001B[38;5;124;43m'\u001B[39;49m\u001B[43m]\u001B[49m\u001B[43m,\u001B[49m\n\u001B[1;32m    159\u001B[0m \u001B[43m        \u001B[49m\u001B[43mgrad_scale\u001B[49m\u001B[38;5;241;43m=\u001B[39;49m\u001B[38;5;28;43mgetattr\u001B[39;49m\u001B[43m(\u001B[49m\u001B[38;5;28;43mself\u001B[39;49m\u001B[43m,\u001B[49m\u001B[43m \u001B[49m\u001B[38;5;124;43m\"\u001B[39;49m\u001B[38;5;124;43mgrad_scale\u001B[39;49m\u001B[38;5;124;43m\"\u001B[39;49m\u001B[43m,\u001B[49m\u001B[43m \u001B[49m\u001B[38;5;28;43;01mNone\u001B[39;49;00m\u001B[43m)\u001B[49m\u001B[43m,\u001B[49m\n\u001B[1;32m    160\u001B[0m \u001B[43m        \u001B[49m\u001B[43mfound_inf\u001B[49m\u001B[38;5;241;43m=\u001B[39;49m\u001B[38;5;28;43mgetattr\u001B[39;49m\u001B[43m(\u001B[49m\u001B[38;5;28;43mself\u001B[39;49m\u001B[43m,\u001B[49m\u001B[43m \u001B[49m\u001B[38;5;124;43m\"\u001B[39;49m\u001B[38;5;124;43mfound_inf\u001B[39;49m\u001B[38;5;124;43m\"\u001B[39;49m\u001B[43m,\u001B[49m\u001B[43m \u001B[49m\u001B[38;5;28;43;01mNone\u001B[39;49;00m\u001B[43m)\u001B[49m\u001B[43m,\u001B[49m\n\u001B[1;32m    161\u001B[0m \u001B[43m    \u001B[49m\u001B[43m)\u001B[49m\n\u001B[1;32m    163\u001B[0m \u001B[38;5;28;01mreturn\u001B[39;00m loss\n",
      "File \u001B[0;32m~/miniconda/lib/python3.10/site-packages/torch/optim/adam.py:281\u001B[0m, in \u001B[0;36madam\u001B[0;34m(params, grads, exp_avgs, exp_avg_sqs, max_exp_avg_sqs, state_steps, foreach, capturable, differentiable, fused, grad_scale, found_inf, amsgrad, beta1, beta2, lr, weight_decay, eps, maximize)\u001B[0m\n\u001B[1;32m    278\u001B[0m \u001B[38;5;28;01melse\u001B[39;00m:\n\u001B[1;32m    279\u001B[0m     func \u001B[38;5;241m=\u001B[39m _single_tensor_adam\n\u001B[0;32m--> 281\u001B[0m \u001B[43mfunc\u001B[49m\u001B[43m(\u001B[49m\u001B[43mparams\u001B[49m\u001B[43m,\u001B[49m\n\u001B[1;32m    282\u001B[0m \u001B[43m     \u001B[49m\u001B[43mgrads\u001B[49m\u001B[43m,\u001B[49m\n\u001B[1;32m    283\u001B[0m \u001B[43m     \u001B[49m\u001B[43mexp_avgs\u001B[49m\u001B[43m,\u001B[49m\n\u001B[1;32m    284\u001B[0m \u001B[43m     \u001B[49m\u001B[43mexp_avg_sqs\u001B[49m\u001B[43m,\u001B[49m\n\u001B[1;32m    285\u001B[0m \u001B[43m     \u001B[49m\u001B[43mmax_exp_avg_sqs\u001B[49m\u001B[43m,\u001B[49m\n\u001B[1;32m    286\u001B[0m \u001B[43m     \u001B[49m\u001B[43mstate_steps\u001B[49m\u001B[43m,\u001B[49m\n\u001B[1;32m    287\u001B[0m \u001B[43m     \u001B[49m\u001B[43mamsgrad\u001B[49m\u001B[38;5;241;43m=\u001B[39;49m\u001B[43mamsgrad\u001B[49m\u001B[43m,\u001B[49m\n\u001B[1;32m    288\u001B[0m \u001B[43m     \u001B[49m\u001B[43mbeta1\u001B[49m\u001B[38;5;241;43m=\u001B[39;49m\u001B[43mbeta1\u001B[49m\u001B[43m,\u001B[49m\n\u001B[1;32m    289\u001B[0m \u001B[43m     \u001B[49m\u001B[43mbeta2\u001B[49m\u001B[38;5;241;43m=\u001B[39;49m\u001B[43mbeta2\u001B[49m\u001B[43m,\u001B[49m\n\u001B[1;32m    290\u001B[0m \u001B[43m     \u001B[49m\u001B[43mlr\u001B[49m\u001B[38;5;241;43m=\u001B[39;49m\u001B[43mlr\u001B[49m\u001B[43m,\u001B[49m\n\u001B[1;32m    291\u001B[0m \u001B[43m     \u001B[49m\u001B[43mweight_decay\u001B[49m\u001B[38;5;241;43m=\u001B[39;49m\u001B[43mweight_decay\u001B[49m\u001B[43m,\u001B[49m\n\u001B[1;32m    292\u001B[0m \u001B[43m     \u001B[49m\u001B[43meps\u001B[49m\u001B[38;5;241;43m=\u001B[39;49m\u001B[43meps\u001B[49m\u001B[43m,\u001B[49m\n\u001B[1;32m    293\u001B[0m \u001B[43m     \u001B[49m\u001B[43mmaximize\u001B[49m\u001B[38;5;241;43m=\u001B[39;49m\u001B[43mmaximize\u001B[49m\u001B[43m,\u001B[49m\n\u001B[1;32m    294\u001B[0m \u001B[43m     \u001B[49m\u001B[43mcapturable\u001B[49m\u001B[38;5;241;43m=\u001B[39;49m\u001B[43mcapturable\u001B[49m\u001B[43m,\u001B[49m\n\u001B[1;32m    295\u001B[0m \u001B[43m     \u001B[49m\u001B[43mdifferentiable\u001B[49m\u001B[38;5;241;43m=\u001B[39;49m\u001B[43mdifferentiable\u001B[49m\u001B[43m,\u001B[49m\n\u001B[1;32m    296\u001B[0m \u001B[43m     \u001B[49m\u001B[43mgrad_scale\u001B[49m\u001B[38;5;241;43m=\u001B[39;49m\u001B[43mgrad_scale\u001B[49m\u001B[43m,\u001B[49m\n\u001B[1;32m    297\u001B[0m \u001B[43m     \u001B[49m\u001B[43mfound_inf\u001B[49m\u001B[38;5;241;43m=\u001B[39;49m\u001B[43mfound_inf\u001B[49m\u001B[43m)\u001B[49m\n",
      "File \u001B[0;32m~/miniconda/lib/python3.10/site-packages/torch/optim/adam.py:328\u001B[0m, in \u001B[0;36m_single_tensor_adam\u001B[0;34m(params, grads, exp_avgs, exp_avg_sqs, max_exp_avg_sqs, state_steps, grad_scale, found_inf, amsgrad, beta1, beta2, lr, weight_decay, eps, maximize, capturable, differentiable)\u001B[0m\n\u001B[1;32m    325\u001B[0m exp_avg_sq \u001B[38;5;241m=\u001B[39m exp_avg_sqs[i]\n\u001B[1;32m    326\u001B[0m step_t \u001B[38;5;241m=\u001B[39m state_steps[i]\n\u001B[0;32m--> 328\u001B[0m \u001B[38;5;28;01mif\u001B[39;00m capturable:\n\u001B[1;32m    329\u001B[0m     \u001B[38;5;28;01massert\u001B[39;00m param\u001B[38;5;241m.\u001B[39mis_cuda \u001B[38;5;129;01mand\u001B[39;00m step_t\u001B[38;5;241m.\u001B[39mis_cuda, \u001B[38;5;124m\"\u001B[39m\u001B[38;5;124mIf capturable=True, params and state_steps must be CUDA tensors.\u001B[39m\u001B[38;5;124m\"\u001B[39m\n\u001B[1;32m    331\u001B[0m \u001B[38;5;66;03m# update step\u001B[39;00m\n",
      "\u001B[0;31mKeyboardInterrupt\u001B[0m: "
     ]
    }
   ],
   "source": [
    "lr = 0.0001\n",
    "loss_func = torch.nn.MSELoss()\n",
    "optimizer = torch.optim.Adam(model.parameters(), lr=lr)\n",
    "total_steps = len(train_loader)\n",
    "\n",
    "total_steps = len(train_loader)\n",
    "\n",
    "for epoch in range(epochs):\n",
    "    for i,(x, y) in enumerate(train_loader):\n",
    "        print(x.shape)\n",
    "        pred = model(x)\n",
    "        loss = loss_func(pred, y)\n",
    "        \n",
    "        optimizer.zero_grad()\n",
    "        loss.backward()\n",
    "        optimizer.step()\n",
    "        \n",
    "        if i == 0:\n",
    "            print(f'Epoch [{epoch+1}/{epochs}], Step [{i+1}/{total_steps}], Loss: {loss.item():.4f}')"
   ]
  },
  {
   "cell_type": "markdown",
   "id": "d4a2c24d",
   "metadata": {},
   "source": [
    "### PDE modelling"
   ]
  },
  {
   "cell_type": "code",
   "execution_count": 16,
   "id": "01dfacca",
   "metadata": {
    "ExecuteTime": {
     "end_time": "2023-10-18T19:16:32.180376Z",
     "start_time": "2023-10-18T19:16:32.164343Z"
    }
   },
   "outputs": [],
   "source": [
    "S_min = call_options_data.Close.min()\n",
    "S_max = call_options_data.Close.max()\n",
    "T_min = call_options_data.time_to_expiration.min()\n",
    "T_max = call_options_data.time_to_expiration.max()\n",
    "K = torch.tensor(100)\n",
    "r = torch.tensor(0.05)\n",
    "sigma = torch.tensor(0.2)\n",
    "num_samples = 100"
   ]
  },
  {
   "cell_type": "code",
   "execution_count": 17,
   "id": "027141b7",
   "metadata": {
    "ExecuteTime": {
     "end_time": "2023-10-18T19:16:32.527562Z",
     "start_time": "2023-10-18T19:16:32.510920Z"
    }
   },
   "outputs": [],
   "source": [
    "geom = dde.geometry.Interval(S_min, S_max)\n",
    "timedomain = dde.geometry.TimeDomain(T_min, T_max)\n",
    "geomtime = dde.geometry.GeometryXTime(geom, timedomain)"
   ]
  },
  {
   "cell_type": "code",
   "execution_count": 18,
   "id": "83d83d5a",
   "metadata": {
    "ExecuteTime": {
     "end_time": "2023-10-18T19:16:32.831197Z",
     "start_time": "2023-10-18T19:16:32.816099Z"
    }
   },
   "outputs": [],
   "source": [
    "def pde(x, y):\n",
    "    dy_t = dde.grad.jacobian(y, x, i=0, j=1)\n",
    "    dy_x = dde.grad.jacobian(y, x, i=0, j=0)\n",
    "    dy_xx = dde.grad.hessian(y, x, i=0, j=0)\n",
    "    return -1 *(dy_t + (0.5 * (sigma.item() ** 2) * (x[:,0] ** 2) * dy_xx) + (r.item() * x[:,0] * dy_x) - (r.item() * y))"
   ]
  },
  {
   "cell_type": "code",
   "execution_count": 19,
   "id": "b131faf1",
   "metadata": {
    "ExecuteTime": {
     "end_time": "2023-10-18T19:16:33.165537Z",
     "start_time": "2023-10-18T19:16:33.150579Z"
    }
   },
   "outputs": [
    {
     "name": "stdout",
     "output_type": "stream",
     "text": [
      "Warning: 2000 points required, but 2190 points sampled.\n"
     ]
    }
   ],
   "source": [
    "data = dde.data.TimePDE(\n",
    "    geomtime,\n",
    "    pde,\n",
    "    [],\n",
    "    num_domain=4000,\n",
    "    num_test=2000\n",
    ")"
   ]
  },
  {
   "cell_type": "code",
   "execution_count": 20,
   "id": "4dc133bd",
   "metadata": {
    "ExecuteTime": {
     "end_time": "2023-10-18T19:16:33.554806Z",
     "start_time": "2023-10-18T19:16:33.552548Z"
    }
   },
   "outputs": [],
   "source": [
    "net = dde.nn.FNN([2] + [100] * 3 + [1], \"tanh\", \"Glorot normal\")\n",
    "model_dde = dde.Model(data, net)"
   ]
  },
  {
   "cell_type": "code",
   "execution_count": 21,
   "id": "07578051",
   "metadata": {
    "ExecuteTime": {
     "end_time": "2023-10-18T19:19:44.176364Z",
     "start_time": "2023-10-18T19:16:33.881768Z"
    }
   },
   "outputs": [
    {
     "name": "stdout",
     "output_type": "stream",
     "text": [
      "Compiling model...\n",
      "'compile' took 0.180274 s\n",
      "Training model...\n",
      "Step      Train loss    Test loss     Test metric\n",
      "0         [7.29e-04]    [7.27e-04]    []  \n",
      "1000      [1.01e-10]    [1.01e-10]    []  \n",
      "2000      [4.19e-11]    [4.18e-11]    []  \n",
      "\n",
      "Best model at step 2000:\n",
      "  train loss: 4.19e-11\n",
      "  test loss: 4.18e-11\n",
      "  test metric: []\n",
      "\n",
      "'train' took 190.107343 s\n"
     ]
    },
    {
     "data": {
      "text/plain": "(<deepxde.model.LossHistory at 0x154a0dcc0>,\n <deepxde.model.TrainState at 0x154a0ce80>)"
     },
     "execution_count": 21,
     "metadata": {},
     "output_type": "execute_result"
    }
   ],
   "source": [
    "# Build and train the model:\n",
    "model_dde.compile(\"adam\", lr=1e-3)\n",
    "model_dde.train(iterations=2000)"
   ]
  },
  {
   "cell_type": "code",
   "execution_count": 26,
   "id": "1df4512f",
   "metadata": {
    "ExecuteTime": {
     "end_time": "2023-10-18T19:26:15.547306Z",
     "start_time": "2023-10-18T19:26:15.528370Z"
    }
   },
   "outputs": [],
   "source": [
    "X_test = test_call_options_data[['Close','time_to_expiration']].astype('float32')\n",
    "y_test = test_call_options_data.best_bid.values.astype('float32')\n",
    "y_pred = model_dde.predict(X_test)\n",
    "f = model.predict(X_test, operator=pde)\n",
    "print(\"Mean residual:\", np.mean(np.absolute(f)))\n",
    "print(\"L2 relative error:\", dde.metrics.mean_squared_error(y_test, y_pred))"
   ]
  },
  {
   "cell_type": "code",
   "execution_count": 85,
   "outputs": [],
   "source": [
    "# Initial and boundary conditions:\n",
    "bc = dde.icbc.DirichletBC(geomtime, lambda x: dirichlet_boundary_condition(x), lambda _, on_boundary: on_boundary)\n",
    "ic = dde.icbc.IC(\n",
    "    geomtime,\n",
    "    lambda x: max(x - 160, 0),\n",
    "    lambda _, on_initial: on_initial,\n",
    ")\n",
    "\n",
    "def dirichlet_boundary_condition(x):\n",
    "    if x <= 0:\n",
    "        return 0  # Option value is zero when the asset price is zero\n",
    "    return max(x - 160, 0)  # Option value at maturity\n"
   ],
   "metadata": {
    "collapsed": false
   },
   "id": "640bcea06c0ac036"
  },
  {
   "cell_type": "code",
   "execution_count": 86,
   "outputs": [
    {
     "name": "stdout",
     "output_type": "stream",
     "text": [
      "Warning: 2540 points required, but 2739 points sampled.\n"
     ]
    }
   ],
   "source": [
    "data = dde.data.TimePDE(\n",
    "    geomtime,\n",
    "    pde,\n",
    "    [bc, ic],\n",
    "    num_domain=2540,\n",
    "    num_test=2540,\n",
    ")"
   ],
   "metadata": {
    "collapsed": false
   },
   "id": "4f1204cec7146a29"
  },
  {
   "cell_type": "code",
   "execution_count": 65,
   "outputs": [
    {
     "name": "stdout",
     "output_type": "stream",
     "text": [
      "Compiling model...\n",
      "'compile' took 0.000389 s\n",
      "Training model...\n",
      "\n",
      "0         [2.29e-03]    [2.26e-03]    []  \n",
      "1000      [4.90e-10]    [5.24e-10]    []  \n",
      "2000      [5.56e-11]    [6.14e-11]    []  \n",
      "3000      [3.29e-11]    [3.75e-11]    []  \n",
      "4000      [3.00e-11]    [3.45e-11]    []  \n",
      "5000      [8.05e-12]    [9.28e-12]    []  \n",
      "\n",
      "Best model at step 5000:\n",
      "  train loss: 8.05e-12\n",
      "  test loss: 9.28e-12\n",
      "  test metric: []\n",
      "\n",
      "'train' took 478.817068 s\n",
      "\n",
      "Compiling model...\n",
      "'compile' took 0.000569 s\n",
      "Training model...\n",
      "\n",
      "Step      Train loss    Test loss     Test metric\n",
      "5000      [8.05e-12]    [9.28e-12]    []  \n",
      "\n",
      "Best model at step 5000:\n",
      "  train loss: 8.05e-12\n",
      "  test loss: 9.28e-12\n",
      "  test metric: []\n",
      "\n",
      "'train' took 0.160012 s\n"
     ]
    }
   ],
   "source": [
    "net = dde.nn.FNN([2] + [100] * 3 + [1], \"tanh\", \"Glorot normal\")\n",
    "model_dde = dde.Model(data, net)\n",
    "\n",
    "# Build and train the model:\n",
    "model_dde.compile(\"adam\", lr=1e-3)\n",
    "model_dde.train(iterations=5000)\n",
    "model_dde.compile(\"L-BFGS\")\n",
    "losshistory, train_state = model_dde.train()"
   ],
   "metadata": {
    "collapsed": false
   },
   "id": "3bd5f0f0205e9692"
  },
  {
   "cell_type": "code",
   "execution_count": 66,
   "outputs": [
    {
     "data": {
      "text/plain": "<Figure size 640x480 with 1 Axes>",
      "image/png": "[encoded data removed]"
     },
     "metadata": {},
     "output_type": "display_data"
    },
    {
     "data": {
      "text/plain": "<Figure size 640x480 with 1 Axes>",
      "image/png": "[encoded data removed]"
     },
     "metadata": {},
     "output_type": "display_data"
    }
   ],
   "source": [
    "dde.saveplot(losshistory, train_state, issave=False, isplot=True)"
   ],
   "metadata": {
    "collapsed": false
   },
   "id": "76d51f16bdc43065"
  }
 ],
 "metadata": {
  "kernelspec": {
   "name": "python3",
   "language": "python",
   "display_name": "Python 3 (ipykernel)"
  },
  "language_info": {
   "codemirror_mode": {
    "name": "ipython",
    "version": 3
   },
   "file_extension": ".py",
   "mimetype": "text/x-python",
   "name": "python",
   "nbconvert_exporter": "python",
   "pygments_lexer": "ipython3",
   "version": "3.10.10"
  }
 },
 "nbformat": 4,
 "nbformat_minor": 5
}
