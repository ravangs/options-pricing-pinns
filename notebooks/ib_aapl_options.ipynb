{
 "cells": [
  {
   "cell_type": "markdown",
   "source": [
    "# AAPL options prediction"
   ],
   "metadata": {
    "collapsed": false
   },
   "id": "55ec616ab525eea4"
  },
  {
   "cell_type": "code",
   "execution_count": 1,
   "outputs": [],
   "source": [
    "#Import required libraries\n",
    "import torch\n",
    "import torch.nn as nn\n",
    "import torch.nn.init as init\n",
    "from torch.utils.data import DataLoader, TensorDataset\n",
    "from sklearn.model_selection import train_test_split\n",
    "from torch.optim.lr_scheduler import CyclicLR\n",
    "import math\n",
    "import numpy as np\n",
    "import pandas as pd\n",
    "from collections import OrderedDict\n",
    "import matplotlib.pyplot as plt\n",
    "import warnings\n",
    "warnings.filterwarnings('ignore')\n",
    "import tqdm as notebook_tqdm\n",
    "from mpl_toolkits.mplot3d import Axes3D\n",
    "from scipy.interpolate import griddata\n",
    "import torch.nn.functional as F"
   ],
   "metadata": {
    "collapsed": false,
    "ExecuteTime": {
     "end_time": "2023-10-09T20:26:54.139349Z",
     "start_time": "2023-10-09T20:26:52.597896Z"
    }
   },
   "id": "66a4aa888bc48a27"
  },
  {
   "cell_type": "code",
   "execution_count": 2,
   "outputs": [],
   "source": [
    "# Choose the device for computation\n",
    "device = torch.device('cpu')"
   ],
   "metadata": {
    "collapsed": false,
    "ExecuteTime": {
     "end_time": "2023-10-09T20:26:54.817116Z",
     "start_time": "2023-10-09T20:26:54.809151Z"
    }
   },
   "id": "fb534682cd3e9862"
  },
  {
   "cell_type": "markdown",
   "source": [
    "## Data Preprocessing"
   ],
   "metadata": {
    "collapsed": false
   },
   "id": "fee72d87c244dfc4"
  },
  {
   "cell_type": "code",
   "execution_count": 3,
   "outputs": [],
   "source": [
    "# Methods to calculate the Black-Scholes option prices\n",
    "\n",
    "def black_scholes_call(S, K, T, r, sigma):\n",
    "    \"\"\"\n",
    "    Calculate the Black-Scholes call option price.\n",
    "\n",
    "    Parameters:\n",
    "    S (float): Current stock price\n",
    "    K (float): Strike price\n",
    "    T (float): Time to expiration (in years)\n",
    "    r (float): Risk-free interest rate\n",
    "    sigma (float): Volatility of the underlying stock\n",
    "\n",
    "    Returns:\n",
    "    float: Call option price\n",
    "    \"\"\"\n",
    "    d1 = (torch.log(S / K) + (r + 0.5 * sigma**2) * T) / (sigma * torch.sqrt(T))\n",
    "    d2 = d1 - sigma * torch.sqrt(T)\n",
    "    \n",
    "    N_d1 = 0.5 * (1 + torch.erf(d1 / math.sqrt(2)))\n",
    "    N_d2 = 0.5 * (1 + torch.erf(d2 / math.sqrt(2)))\n",
    "    \n",
    "    call_price = S * N_d1 - K * torch.exp(-r * T) * N_d2\n",
    "    return call_price\n",
    "\n",
    "def black_scholes_put(S, K, T, r, sigma):\n",
    "    \"\"\"\n",
    "    Calculate the Black-Scholes put option price.\n",
    "\n",
    "    Parameters:\n",
    "    S (float): Current stock price\n",
    "    K (float): Strike price\n",
    "    T (float): Time to expiration (in years)\n",
    "    r (float): Risk-free interest rate\n",
    "    sigma (float): Volatility of the underlying stock\n",
    "\n",
    "    Returns:\n",
    "    float: Put option price\n",
    "    \"\"\"\n",
    "    d1 = (torch.log(S / K) + (r + 0.5 * sigma**2) * T) / (sigma * torch.sqrt(T))\n",
    "    d2 = d1 - sigma * torch.sqrt(T)\n",
    "    \n",
    "    N_d1 = 0.5 * (1 + torch.erf(-d1 / math.sqrt(2)))\n",
    "    N_d2 = 0.5 * (1 + torch.erf(-d2 / math.sqrt(2)))\n",
    "    \n",
    "    put_price = K * torch.exp(-r * T) * N_d2 - S * N_d1\n",
    "    return put_price\n"
   ],
   "metadata": {
    "collapsed": false,
    "ExecuteTime": {
     "end_time": "2023-10-09T20:26:56.022336Z",
     "start_time": "2023-10-09T20:26:56.019707Z"
    }
   },
   "id": "2872b45993414ce2"
  },
  {
   "cell_type": "code",
   "execution_count": 4,
   "outputs": [],
   "source": [
    "options_data = pd.read_csv('jnnksdxiidjlejyn.csv')\n",
    "stock_prices_data = pd.read_csv('stock_prices_aapl_2022.csv')"
   ],
   "metadata": {
    "collapsed": false,
    "ExecuteTime": {
     "end_time": "2023-10-09T20:26:56.592100Z",
     "start_time": "2023-10-09T20:26:56.363933Z"
    }
   },
   "id": "9b0e107f89591fb5"
  },
  {
   "cell_type": "code",
   "execution_count": 5,
   "outputs": [
    {
     "data": {
      "text/plain": "(231745, 19)"
     },
     "execution_count": 5,
     "metadata": {},
     "output_type": "execute_result"
    }
   ],
   "source": [
    "options_data.shape"
   ],
   "metadata": {
    "collapsed": false,
    "ExecuteTime": {
     "end_time": "2023-10-09T20:26:56.675313Z",
     "start_time": "2023-10-09T20:26:56.663263Z"
    }
   },
   "id": "f10b559ed9d01699"
  },
  {
   "cell_type": "code",
   "execution_count": 6,
   "outputs": [
    {
     "data": {
      "text/plain": "        strike_price       best_bid     best_offer         volume  \\\ncount  231745.000000  231745.000000  231745.000000  231745.000000   \nmean   159060.633455      27.675167      28.076322     777.266590   \nstd     64087.229135      33.455194      33.752894    5820.564791   \nmin     25000.000000       0.000000       0.010000       0.000000   \n25%    110000.000000       0.510000       0.590000       0.000000   \n50%    150000.000000      12.300000      12.650000       8.000000   \n75%    205000.000000      47.550000      48.250000     109.000000   \nmax    320000.000000     156.700000     157.050000  365875.000000   \n\n       impl_volatility          delta          gamma           vega  \\\ncount    211076.000000  211076.000000  211076.000000  211076.000000   \nmean          0.458185       0.482070       0.006758      19.235582   \nstd           0.283766       0.392335       0.009867      22.076527   \nmin           0.151039       0.000619       0.000000       0.000223   \n25%           0.310949       0.043089       0.001004       1.963998   \n50%           0.371723       0.486595       0.003625      10.330390   \n75%           0.484269       0.903945       0.008010      30.046845   \nmax           2.998775       0.999998       0.184287     105.490200   \n\n               theta      optionid  contract_size  index_flag  \ncount  211076.000000  2.317450e+05       231745.0    231745.0  \nmean      -12.865614  1.442466e+08          100.0         0.0  \nstd        21.631369  5.008530e+06            0.0         0.0  \nmin      -734.326500  1.305090e+08          100.0         0.0  \n25%       -13.742892  1.414705e+08          100.0         0.0  \n50%        -7.651854  1.447367e+08          100.0         0.0  \n75%        -3.247278  1.481613e+08          100.0         0.0  \nmax        -0.098726  1.517594e+08          100.0         0.0  ",
      "text/html": "<div>\n<style scoped>\n    .dataframe tbody tr th:only-of-type {\n        vertical-align: middle;\n    }\n\n    .dataframe tbody tr th {\n        vertical-align: top;\n    }\n\n    .dataframe thead th {\n        text-align: right;\n    }\n</style>\n<table border=\"1\" class=\"dataframe\">\n  <thead>\n    <tr style=\"text-align: right;\">\n      <th></th>\n      <th>strike_price</th>\n      <th>best_bid</th>\n      <th>best_offer</th>\n      <th>volume</th>\n      <th>impl_volatility</th>\n      <th>delta</th>\n      <th>gamma</th>\n      <th>vega</th>\n      <th>theta</th>\n      <th>optionid</th>\n      <th>contract_size</th>\n      <th>index_flag</th>\n    </tr>\n  </thead>\n  <tbody>\n    <tr>\n      <th>count</th>\n      <td>231745.000000</td>\n      <td>231745.000000</td>\n      <td>231745.000000</td>\n      <td>231745.000000</td>\n      <td>211076.000000</td>\n      <td>211076.000000</td>\n      <td>211076.000000</td>\n      <td>211076.000000</td>\n      <td>211076.000000</td>\n      <td>2.317450e+05</td>\n      <td>231745.0</td>\n      <td>231745.0</td>\n    </tr>\n    <tr>\n      <th>mean</th>\n      <td>159060.633455</td>\n      <td>27.675167</td>\n      <td>28.076322</td>\n      <td>777.266590</td>\n      <td>0.458185</td>\n      <td>0.482070</td>\n      <td>0.006758</td>\n      <td>19.235582</td>\n      <td>-12.865614</td>\n      <td>1.442466e+08</td>\n      <td>100.0</td>\n      <td>0.0</td>\n    </tr>\n    <tr>\n      <th>std</th>\n      <td>64087.229135</td>\n      <td>33.455194</td>\n      <td>33.752894</td>\n      <td>5820.564791</td>\n      <td>0.283766</td>\n      <td>0.392335</td>\n      <td>0.009867</td>\n      <td>22.076527</td>\n      <td>21.631369</td>\n      <td>5.008530e+06</td>\n      <td>0.0</td>\n      <td>0.0</td>\n    </tr>\n    <tr>\n      <th>min</th>\n      <td>25000.000000</td>\n      <td>0.000000</td>\n      <td>0.010000</td>\n      <td>0.000000</td>\n      <td>0.151039</td>\n      <td>0.000619</td>\n      <td>0.000000</td>\n      <td>0.000223</td>\n      <td>-734.326500</td>\n      <td>1.305090e+08</td>\n      <td>100.0</td>\n      <td>0.0</td>\n    </tr>\n    <tr>\n      <th>25%</th>\n      <td>110000.000000</td>\n      <td>0.510000</td>\n      <td>0.590000</td>\n      <td>0.000000</td>\n      <td>0.310949</td>\n      <td>0.043089</td>\n      <td>0.001004</td>\n      <td>1.963998</td>\n      <td>-13.742892</td>\n      <td>1.414705e+08</td>\n      <td>100.0</td>\n      <td>0.0</td>\n    </tr>\n    <tr>\n      <th>50%</th>\n      <td>150000.000000</td>\n      <td>12.300000</td>\n      <td>12.650000</td>\n      <td>8.000000</td>\n      <td>0.371723</td>\n      <td>0.486595</td>\n      <td>0.003625</td>\n      <td>10.330390</td>\n      <td>-7.651854</td>\n      <td>1.447367e+08</td>\n      <td>100.0</td>\n      <td>0.0</td>\n    </tr>\n    <tr>\n      <th>75%</th>\n      <td>205000.000000</td>\n      <td>47.550000</td>\n      <td>48.250000</td>\n      <td>109.000000</td>\n      <td>0.484269</td>\n      <td>0.903945</td>\n      <td>0.008010</td>\n      <td>30.046845</td>\n      <td>-3.247278</td>\n      <td>1.481613e+08</td>\n      <td>100.0</td>\n      <td>0.0</td>\n    </tr>\n    <tr>\n      <th>max</th>\n      <td>320000.000000</td>\n      <td>156.700000</td>\n      <td>157.050000</td>\n      <td>365875.000000</td>\n      <td>2.998775</td>\n      <td>0.999998</td>\n      <td>0.184287</td>\n      <td>105.490200</td>\n      <td>-0.098726</td>\n      <td>1.517594e+08</td>\n      <td>100.0</td>\n      <td>0.0</td>\n    </tr>\n  </tbody>\n</table>\n</div>"
     },
     "execution_count": 6,
     "metadata": {},
     "output_type": "execute_result"
    }
   ],
   "source": [
    "options_data.describe()"
   ],
   "metadata": {
    "collapsed": false,
    "ExecuteTime": {
     "end_time": "2023-10-09T20:26:57.173418Z",
     "start_time": "2023-10-09T20:26:57.088162Z"
    }
   },
   "id": "3c354050a756b4e2"
  },
  {
   "cell_type": "markdown",
   "source": [
    "Definition of the data:\n",
    "\n",
    "1. [Strike Price](https://www.investopedia.com/terms/s/strikeprice.asp)\n",
    "2. [Implied Volatility](https://www.investopedia.com/terms/i/iv.asp)\n",
    "3. [Options Greeks](https://www.investopedia.com/trading/getting-to-know-the-greeks/#toc-delta)\n",
    "4. [Forward Price](https://www.investopedia.com/terms/f/forwardprice.asp)"
   ],
   "metadata": {
    "collapsed": false
   },
   "id": "f874c5593e9a67b0"
  },
  {
   "cell_type": "code",
   "execution_count": 7,
   "outputs": [
    {
     "data": {
      "text/plain": "           Date    Open    High     Low   Close       Volume\n246  01/07/2022  172.89  174.14  171.03  172.17   86,709,148\n247  01/06/2022  172.70  175.30  171.64  172.00   96,903,961\n248  01/05/2022  179.61  180.17  174.64  174.92   94,537,602\n249  01/04/2022  182.63  182.94  179.12  179.70   99,310,438\n250  01/03/2022  177.83  182.88  177.71  182.01  104,701,203",
      "text/html": "<div>\n<style scoped>\n    .dataframe tbody tr th:only-of-type {\n        vertical-align: middle;\n    }\n\n    .dataframe tbody tr th {\n        vertical-align: top;\n    }\n\n    .dataframe thead th {\n        text-align: right;\n    }\n</style>\n<table border=\"1\" class=\"dataframe\">\n  <thead>\n    <tr style=\"text-align: right;\">\n      <th></th>\n      <th>Date</th>\n      <th>Open</th>\n      <th>High</th>\n      <th>Low</th>\n      <th>Close</th>\n      <th>Volume</th>\n    </tr>\n  </thead>\n  <tbody>\n    <tr>\n      <th>246</th>\n      <td>01/07/2022</td>\n      <td>172.89</td>\n      <td>174.14</td>\n      <td>171.03</td>\n      <td>172.17</td>\n      <td>86,709,148</td>\n    </tr>\n    <tr>\n      <th>247</th>\n      <td>01/06/2022</td>\n      <td>172.70</td>\n      <td>175.30</td>\n      <td>171.64</td>\n      <td>172.00</td>\n      <td>96,903,961</td>\n    </tr>\n    <tr>\n      <th>248</th>\n      <td>01/05/2022</td>\n      <td>179.61</td>\n      <td>180.17</td>\n      <td>174.64</td>\n      <td>174.92</td>\n      <td>94,537,602</td>\n    </tr>\n    <tr>\n      <th>249</th>\n      <td>01/04/2022</td>\n      <td>182.63</td>\n      <td>182.94</td>\n      <td>179.12</td>\n      <td>179.70</td>\n      <td>99,310,438</td>\n    </tr>\n    <tr>\n      <th>250</th>\n      <td>01/03/2022</td>\n      <td>177.83</td>\n      <td>182.88</td>\n      <td>177.71</td>\n      <td>182.01</td>\n      <td>104,701,203</td>\n    </tr>\n  </tbody>\n</table>\n</div>"
     },
     "execution_count": 7,
     "metadata": {},
     "output_type": "execute_result"
    }
   ],
   "source": [
    "stock_prices_data.tail()"
   ],
   "metadata": {
    "collapsed": false,
    "ExecuteTime": {
     "end_time": "2023-10-09T20:26:58.245923Z",
     "start_time": "2023-10-09T20:26:58.234474Z"
    }
   },
   "id": "df9e6afe0d3c2861"
  },
  {
   "cell_type": "code",
   "execution_count": 8,
   "outputs": [
    {
     "name": "stdout",
     "output_type": "stream",
     "text": [
      "Processed Data Summary:\n"
     ]
    },
    {
     "data": {
      "text/plain": "   index   last_date  strike_price  best_bid  best_offer  impl_volatility  \\\n0     18  2022-01-03        152500     28.25       31.25         0.937468   \n1     20  2022-01-03        157500     24.20       24.95         0.630916   \n2     22  2022-01-03        162500     19.30       20.65         0.753108   \n3     26  2022-01-03        172500      9.40        9.65         0.196803   \n4     27  2022-01-03        175000      7.10        7.20         0.247537   \n\n   contract_size   Close  time_to_expiration  \n0            100  182.01            0.010959  \n1            100  182.01            0.010959  \n2            100  182.01            0.010959  \n3            100  182.01            0.010959  \n4            100  182.01            0.010959  ",
      "text/html": "<div>\n<style scoped>\n    .dataframe tbody tr th:only-of-type {\n        vertical-align: middle;\n    }\n\n    .dataframe tbody tr th {\n        vertical-align: top;\n    }\n\n    .dataframe thead th {\n        text-align: right;\n    }\n</style>\n<table border=\"1\" class=\"dataframe\">\n  <thead>\n    <tr style=\"text-align: right;\">\n      <th></th>\n      <th>index</th>\n      <th>last_date</th>\n      <th>strike_price</th>\n      <th>best_bid</th>\n      <th>best_offer</th>\n      <th>impl_volatility</th>\n      <th>contract_size</th>\n      <th>Close</th>\n      <th>time_to_expiration</th>\n    </tr>\n  </thead>\n  <tbody>\n    <tr>\n      <th>0</th>\n      <td>18</td>\n      <td>2022-01-03</td>\n      <td>152500</td>\n      <td>28.25</td>\n      <td>31.25</td>\n      <td>0.937468</td>\n      <td>100</td>\n      <td>182.01</td>\n      <td>0.010959</td>\n    </tr>\n    <tr>\n      <th>1</th>\n      <td>20</td>\n      <td>2022-01-03</td>\n      <td>157500</td>\n      <td>24.20</td>\n      <td>24.95</td>\n      <td>0.630916</td>\n      <td>100</td>\n      <td>182.01</td>\n      <td>0.010959</td>\n    </tr>\n    <tr>\n      <th>2</th>\n      <td>22</td>\n      <td>2022-01-03</td>\n      <td>162500</td>\n      <td>19.30</td>\n      <td>20.65</td>\n      <td>0.753108</td>\n      <td>100</td>\n      <td>182.01</td>\n      <td>0.010959</td>\n    </tr>\n    <tr>\n      <th>3</th>\n      <td>26</td>\n      <td>2022-01-03</td>\n      <td>172500</td>\n      <td>9.40</td>\n      <td>9.65</td>\n      <td>0.196803</td>\n      <td>100</td>\n      <td>182.01</td>\n      <td>0.010959</td>\n    </tr>\n    <tr>\n      <th>4</th>\n      <td>27</td>\n      <td>2022-01-03</td>\n      <td>175000</td>\n      <td>7.10</td>\n      <td>7.20</td>\n      <td>0.247537</td>\n      <td>100</td>\n      <td>182.01</td>\n      <td>0.010959</td>\n    </tr>\n  </tbody>\n</table>\n</div>"
     },
     "execution_count": 8,
     "metadata": {},
     "output_type": "execute_result"
    }
   ],
   "source": [
    "options_data['date'] = pd.to_datetime(options_data['date'])\n",
    "stock_prices_data['Date'] = pd.to_datetime(stock_prices_data['Date'])\n",
    "\n",
    "# Merge options and stock prices data based on date\n",
    "merged_data = options_data.merge(stock_prices_data, left_on='date', right_on='Date', how=\"inner\")\n",
    "\n",
    "# Calculate time to expiration in years\n",
    "merged_data['exdate'] = pd.to_datetime(merged_data['exdate'])\n",
    "merged_data['time_to_expiration'] = (merged_data['exdate'] - merged_data['date']).dt.total_seconds() / (24 * 60 * 60 * 365)\n",
    "\n",
    "columns_to_drop = ['Date', 'Open', 'High', 'Low', 'Volume', 'date', 'exdate', 'volume', 'delta', 'gamma', 'vega', 'theta', 'optionid', 'ticker', 'index_flag', 'issuer', 'exercise_style']\n",
    "merged_data.drop(columns=columns_to_drop, inplace=True)\n",
    "\n",
    "merged_data = merged_data.dropna()\n",
    "\n",
    "# Filter call options\n",
    "call_options_data = merged_data[merged_data['cp_flag'] == \"C\"]\n",
    "call_options_data.drop(columns='cp_flag', inplace=True)\n",
    "\n",
    "call_options_data = call_options_data.reset_index()\n",
    "\n",
    "print(\"Processed Data Summary:\")\n",
    "call_options_data.head()"
   ],
   "metadata": {
    "collapsed": false,
    "ExecuteTime": {
     "end_time": "2023-10-09T20:26:58.699930Z",
     "start_time": "2023-10-09T20:26:58.594403Z"
    }
   },
   "id": "91bb583cfce7baf3"
  },
  {
   "cell_type": "code",
   "execution_count": 9,
   "outputs": [],
   "source": [
    "train_call_options_data, test_call_options_data = train_test_split(call_options_data, test_size=0.1)\n",
    "train_call_options_data, val_call_options_data = train_test_split(train_call_options_data, test_size=0.2)"
   ],
   "metadata": {
    "collapsed": false,
    "ExecuteTime": {
     "end_time": "2023-10-09T20:26:59.240052Z",
     "start_time": "2023-10-09T20:26:59.215554Z"
    }
   },
   "id": "124b807a17b04f99"
  },
  {
   "cell_type": "code",
   "execution_count": 10,
   "outputs": [],
   "source": [
    "train_call_options_data = train_call_options_data.reset_index(drop=True)\n",
    "val_call_options_data = val_call_options_data.reset_index(drop=True)\n",
    "test_call_options_data = test_call_options_data.reset_index(drop=True)"
   ],
   "metadata": {
    "collapsed": false,
    "ExecuteTime": {
     "end_time": "2023-10-09T20:26:59.783883Z",
     "start_time": "2023-10-09T20:26:59.765070Z"
    }
   },
   "id": "9393c93bc2686af9"
  },
  {
   "cell_type": "code",
   "execution_count": 12,
   "outputs": [
    {
     "data": {
      "text/plain": "               index   strike_price       best_bid     best_offer  \\\ncount  145084.000000  145084.000000  145084.000000  145084.000000   \nmean   116103.657660  164874.703620      24.045236      24.418945   \nstd     67103.541444   62091.977519      30.605068      30.912858   \nmin        18.000000   28750.000000       0.000000       0.010000   \n25%     58199.750000  120000.000000       0.430000       0.500000   \n50%    115289.500000  160000.000000       9.400000       9.700000   \n75%    174583.250000  210000.000000      39.550000      40.150000   \nmax    231744.000000  320000.000000     152.850000     154.250000   \n\n       impl_volatility  contract_size          Close  time_to_expiration  \ncount    145084.000000       145084.0  145084.000000       145084.000000  \nmean          0.450236          100.0     154.291475            0.558280  \nstd           0.277543            0.0      12.993695            0.596709  \nmin           0.174370          100.0     126.040000            0.002740  \n25%           0.309642          100.0     143.780000            0.082192  \n50%           0.366649          100.0     153.040000            0.350685  \n75%           0.473899          100.0     165.350000            0.835616  \nmax           2.998775          100.0     182.010000            2.350685  ",
      "text/html": "<div>\n<style scoped>\n    .dataframe tbody tr th:only-of-type {\n        vertical-align: middle;\n    }\n\n    .dataframe tbody tr th {\n        vertical-align: top;\n    }\n\n    .dataframe thead th {\n        text-align: right;\n    }\n</style>\n<table border=\"1\" class=\"dataframe\">\n  <thead>\n    <tr style=\"text-align: right;\">\n      <th></th>\n      <th>index</th>\n      <th>strike_price</th>\n      <th>best_bid</th>\n      <th>best_offer</th>\n      <th>impl_volatility</th>\n      <th>contract_size</th>\n      <th>Close</th>\n      <th>time_to_expiration</th>\n    </tr>\n  </thead>\n  <tbody>\n    <tr>\n      <th>count</th>\n      <td>145084.000000</td>\n      <td>145084.000000</td>\n      <td>145084.000000</td>\n      <td>145084.000000</td>\n      <td>145084.000000</td>\n      <td>145084.0</td>\n      <td>145084.000000</td>\n      <td>145084.000000</td>\n    </tr>\n    <tr>\n      <th>mean</th>\n      <td>116103.657660</td>\n      <td>164874.703620</td>\n      <td>24.045236</td>\n      <td>24.418945</td>\n      <td>0.450236</td>\n      <td>100.0</td>\n      <td>154.291475</td>\n      <td>0.558280</td>\n    </tr>\n    <tr>\n      <th>std</th>\n      <td>67103.541444</td>\n      <td>62091.977519</td>\n      <td>30.605068</td>\n      <td>30.912858</td>\n      <td>0.277543</td>\n      <td>0.0</td>\n      <td>12.993695</td>\n      <td>0.596709</td>\n    </tr>\n    <tr>\n      <th>min</th>\n      <td>18.000000</td>\n      <td>28750.000000</td>\n      <td>0.000000</td>\n      <td>0.010000</td>\n      <td>0.174370</td>\n      <td>100.0</td>\n      <td>126.040000</td>\n      <td>0.002740</td>\n    </tr>\n    <tr>\n      <th>25%</th>\n      <td>58199.750000</td>\n      <td>120000.000000</td>\n      <td>0.430000</td>\n      <td>0.500000</td>\n      <td>0.309642</td>\n      <td>100.0</td>\n      <td>143.780000</td>\n      <td>0.082192</td>\n    </tr>\n    <tr>\n      <th>50%</th>\n      <td>115289.500000</td>\n      <td>160000.000000</td>\n      <td>9.400000</td>\n      <td>9.700000</td>\n      <td>0.366649</td>\n      <td>100.0</td>\n      <td>153.040000</td>\n      <td>0.350685</td>\n    </tr>\n    <tr>\n      <th>75%</th>\n      <td>174583.250000</td>\n      <td>210000.000000</td>\n      <td>39.550000</td>\n      <td>40.150000</td>\n      <td>0.473899</td>\n      <td>100.0</td>\n      <td>165.350000</td>\n      <td>0.835616</td>\n    </tr>\n    <tr>\n      <th>max</th>\n      <td>231744.000000</td>\n      <td>320000.000000</td>\n      <td>152.850000</td>\n      <td>154.250000</td>\n      <td>2.998775</td>\n      <td>100.0</td>\n      <td>182.010000</td>\n      <td>2.350685</td>\n    </tr>\n  </tbody>\n</table>\n</div>"
     },
     "execution_count": 12,
     "metadata": {},
     "output_type": "execute_result"
    }
   ],
   "source": [
    "train_call_options_data.describe()"
   ],
   "metadata": {
    "collapsed": false,
    "ExecuteTime": {
     "end_time": "2023-10-09T20:27:19.037852Z",
     "start_time": "2023-10-09T20:27:19.000070Z"
    }
   },
   "id": "933c1fb2b53fb264"
  },
  {
   "cell_type": "markdown",
   "source": [
    "## Converting Data to Tensor and Data Loader"
   ],
   "metadata": {
    "collapsed": false
   },
   "id": "28fc3a8e063f577a"
  },
  {
   "cell_type": "code",
   "execution_count": 12,
   "outputs": [],
   "source": [
    "X_train = torch.tensor(train_call_options_data[['Close','time_to_expiration']].values, dtype=torch.float32)\n",
    "y_train = torch.tensor(train_call_options_data.best_bid.values, dtype=torch.float32)\n",
    "\n",
    "X_val = torch.tensor(val_call_options_data[['Close','time_to_expiration']].values, dtype=torch.float32)\n",
    "y_val = torch.tensor(val_call_options_data.best_bid.values, dtype=torch.float32)\n",
    "\n",
    "X_test = torch.tensor(test_call_options_data[['Close','time_to_expiration']].values, dtype=torch.float32)\n",
    "y_test = torch.tensor(test_call_options_data.best_bid.values, dtype=torch.float32)"
   ],
   "metadata": {
    "collapsed": false,
    "ExecuteTime": {
     "end_time": "2023-10-03T00:40:48.437645Z",
     "start_time": "2023-10-03T00:40:48.402768Z"
    }
   },
   "id": "b2f840fb2687b29f"
  },
  {
   "cell_type": "code",
   "execution_count": 13,
   "outputs": [],
   "source": [
    "batch_size = 64\n",
    "\n",
    "train_dataset = TensorDataset(X_train, y_train)\n",
    "val_dataset = TensorDataset(X_val, y_val)\n",
    "test_dataset = TensorDataset(X_test, y_test)\n",
    "\n",
    "train_loader = torch.utils.data.DataLoader(train_dataset, batch_size=batch_size, shuffle=True)\n",
    "val_loader = torch.utils.data.DataLoader(val_dataset, batch_size=batch_size, shuffle=True)\n",
    "test_loader = torch.utils.data.DataLoader(test_dataset, batch_size=batch_size, shuffle=True)\n"
   ],
   "metadata": {
    "collapsed": false,
    "ExecuteTime": {
     "end_time": "2023-10-03T00:40:48.441401Z",
     "start_time": "2023-10-03T00:40:48.412365Z"
    }
   },
   "id": "691ac4f024dbbee9"
  },
  {
   "cell_type": "markdown",
   "source": [
    "## Model Definition"
   ],
   "metadata": {
    "collapsed": false
   },
   "id": "c5ddc4805541fcf2"
  },
  {
   "cell_type": "code",
   "execution_count": 14,
   "outputs": [],
   "source": [
    "## Defining the model\n",
    "class MLPBlock(nn.Module):\n",
    "    def __init__(self, hidden_size=64, num_layers=3, dropout_prob=0.5):\n",
    "        super(MLPBlock, self).__init__()\n",
    "        layers = []\n",
    "        for _ in range(num_layers):\n",
    "            layers.append(nn.Linear(hidden_size, hidden_size))\n",
    "            layers.append(nn.ReLU())\n",
    "            layers.append(nn.Dropout(p=dropout_prob))\n",
    "        self.network = nn.Sequential(*layers)\n",
    "\n",
    "    def forward(self, x):\n",
    "        return self.network(x)\n",
    "\n",
    "class NCLNetwork(nn.Module):\n",
    "    def __init__(self, input_size=2, output_size=1, num_blocks=10, hidden_size=64, num_layers=3, dropout_prob=0.5):\n",
    "        super(NCLNetwork, self).__init__()\n",
    "        blocks = []\n",
    "        for _ in range(num_blocks):\n",
    "            blocks.append(MLPBlock(hidden_size, num_layers, dropout_prob))\n",
    "            blocks.append(nn.BatchNorm1d(hidden_size))\n",
    "            blocks.append(nn.Dropout(p=dropout_prob))\n",
    "        self.input_layer = nn.Linear(input_size, hidden_size)\n",
    "        self.blocks = nn.Sequential(*blocks)\n",
    "        self.output_layer = nn.Linear(hidden_size, output_size)\n",
    "\n",
    "    def forward(self, x):\n",
    "        x = self.input_layer(x)\n",
    "        x = self.blocks(x)\n",
    "        x = self.output_layer(x)\n",
    "        return x\n",
    "\n",
    "#Model Parameters\n",
    "input_size = 2\n",
    "output_size = 1\n",
    "num_blocks = 10\n",
    "hidden_size = 64\n",
    "num_layers = 3\n",
    "dropout_prob = 0.5\n",
    "\n",
    "model = NCLNetwork(input_size, output_size, num_blocks, hidden_size, num_layers, dropout_prob)\n",
    "\n",
    "for m in model.modules():\n",
    "    if isinstance(m, nn.Linear):\n",
    "        nn.init.xavier_uniform_(m.weight)\n",
    "        if m.bias is not None:\n",
    "            nn.init.zeros_(m.bias)\n",
    "        "
   ],
   "metadata": {
    "collapsed": false,
    "ExecuteTime": {
     "end_time": "2023-10-03T00:40:48.456104Z",
     "start_time": "2023-10-03T00:40:48.419598Z"
    }
   },
   "id": "a345ef076031deda"
  },
  {
   "cell_type": "markdown",
   "source": [
    "## Model Training"
   ],
   "metadata": {
    "collapsed": false
   },
   "id": "5ba465d74edaad2a"
  },
  {
   "cell_type": "code",
   "execution_count": 15,
   "outputs": [],
   "source": [
    "criterion = nn.MSELoss()\n",
    "optimizer = torch.optim.SGD(model.parameters(), lr=0.0001, momentum=0.9)\n",
    "\n",
    "# Define the learning rate range\n",
    "base_lr = 0.00001  # The minimum learning rate\n",
    "max_lr = 0.1     # The maximum learning rate\n",
    "\n",
    "# Create a cyclic learning rate scheduler\n",
    "clr_scheduler = CyclicLR(optimizer, base_lr=base_lr, max_lr=max_lr, step_size_up=2000, step_size_down=None, mode='triangular')\n",
    "\n",
    "\n",
    "num_epochs = 50"
   ],
   "metadata": {
    "collapsed": false,
    "ExecuteTime": {
     "end_time": "2023-10-03T00:40:48.456715Z",
     "start_time": "2023-10-03T00:40:48.426603Z"
    }
   },
   "id": "20c693f93425db68"
  },
  {
   "cell_type": "code",
   "execution_count": 18,
   "outputs": [
    {
     "name": "stdout",
     "output_type": "stream",
     "text": [
      "Epoch [1/50] - Training Loss: 933.3686 - Validation Loss: 949.6721\n",
      "Epoch [2/50] - Training Loss: 933.2621 - Validation Loss: 949.9557\n",
      "Epoch [3/50] - Training Loss: 933.1835 - Validation Loss: 949.4250\n",
      "Epoch [4/50] - Training Loss: 933.0832 - Validation Loss: 950.7198\n",
      "Epoch [5/50] - Training Loss: 933.0891 - Validation Loss: 949.5595\n",
      "Epoch [6/50] - Training Loss: 933.0696 - Validation Loss: 949.4720\n",
      "Epoch [7/50] - Training Loss: 933.0878 - Validation Loss: 949.4714\n",
      "Epoch [8/50] - Training Loss: 932.9890 - Validation Loss: 949.5244\n",
      "Epoch [9/50] - Training Loss: 932.9836 - Validation Loss: 949.2025\n",
      "Epoch [10/50] - Training Loss: 932.8775 - Validation Loss: 949.6137\n",
      "Epoch [11/50] - Training Loss: 932.8452 - Validation Loss: 949.3332\n",
      "Epoch [12/50] - Training Loss: 932.8657 - Validation Loss: 949.6141\n",
      "Epoch [13/50] - Training Loss: 932.7643 - Validation Loss: 949.3760\n",
      "Epoch [14/50] - Training Loss: 932.8026 - Validation Loss: 949.4601\n",
      "Epoch [15/50] - Training Loss: 932.7111 - Validation Loss: 949.6316\n",
      "Epoch [16/50] - Training Loss: 932.7218 - Validation Loss: 949.8934\n",
      "Epoch [17/50] - Training Loss: 932.7038 - Validation Loss: 949.9059\n",
      "Epoch [18/50] - Training Loss: 932.6779 - Validation Loss: 949.3055\n",
      "Epoch [19/50] - Training Loss: 932.5105 - Validation Loss: 949.9682\n",
      "Epoch [20/50] - Training Loss: 932.5540 - Validation Loss: 949.4658\n",
      "Epoch [21/50] - Training Loss: 932.5264 - Validation Loss: 949.5351\n",
      "Epoch [22/50] - Training Loss: 932.4148 - Validation Loss: 949.5338\n",
      "Epoch [23/50] - Training Loss: 932.3939 - Validation Loss: 949.7095\n",
      "Epoch [24/50] - Training Loss: 932.3896 - Validation Loss: 949.4092\n",
      "Epoch [25/50] - Training Loss: 932.2607 - Validation Loss: 949.7462\n",
      "Epoch [26/50] - Training Loss: 932.3701 - Validation Loss: 949.1090\n",
      "Epoch [27/50] - Training Loss: 932.2869 - Validation Loss: 950.1152\n",
      "Epoch [28/50] - Training Loss: 932.2437 - Validation Loss: 949.1917\n",
      "Epoch [29/50] - Training Loss: 932.1674 - Validation Loss: 949.4030\n",
      "Epoch [30/50] - Training Loss: 932.1840 - Validation Loss: 949.4753\n",
      "Epoch [31/50] - Training Loss: 932.1396 - Validation Loss: 949.1841\n",
      "Epoch [32/50] - Training Loss: 932.1310 - Validation Loss: 949.4410\n",
      "Epoch [33/50] - Training Loss: 932.0907 - Validation Loss: 949.3020\n",
      "Epoch [34/50] - Training Loss: 932.1011 - Validation Loss: 949.3741\n",
      "Epoch [35/50] - Training Loss: 932.0132 - Validation Loss: 949.3378\n",
      "Epoch [36/50] - Training Loss: 931.9914 - Validation Loss: 949.4665\n",
      "Epoch [37/50] - Training Loss: 931.9341 - Validation Loss: 949.3862\n",
      "Epoch [38/50] - Training Loss: 931.9250 - Validation Loss: 949.3960\n",
      "Epoch [39/50] - Training Loss: 931.9189 - Validation Loss: 949.5099\n",
      "Epoch [40/50] - Training Loss: 931.8750 - Validation Loss: 949.3572\n",
      "Epoch [41/50] - Training Loss: 931.8155 - Validation Loss: 949.3052\n",
      "Epoch [42/50] - Training Loss: 931.8175 - Validation Loss: 949.2379\n",
      "Epoch [43/50] - Training Loss: 931.8035 - Validation Loss: 949.2297\n",
      "Epoch [44/50] - Training Loss: 931.7983 - Validation Loss: 950.0353\n",
      "Epoch [45/50] - Training Loss: 931.7963 - Validation Loss: 949.8831\n",
      "Epoch [46/50] - Training Loss: 931.7143 - Validation Loss: 949.5330\n",
      "Epoch [47/50] - Training Loss: 931.7007 - Validation Loss: 949.5844\n",
      "Epoch [48/50] - Training Loss: 931.6549 - Validation Loss: 949.3307\n",
      "Epoch [49/50] - Training Loss: 931.7161 - Validation Loss: 949.6598\n",
      "Epoch [50/50] - Training Loss: 931.6330 - Validation Loss: 949.2825\n"
     ]
    }
   ],
   "source": [
    "# Training loop\n",
    "for epoch in range(num_epochs):\n",
    "    model.train()\n",
    "    running_loss = 0.0\n",
    "\n",
    "    for inputs, targets in train_loader:\n",
    "        optimizer.zero_grad()\n",
    "        outputs = model(inputs)\n",
    "        loss = criterion(outputs, targets)\n",
    "        loss.backward()\n",
    "        optimizer.step()\n",
    "\n",
    "        running_loss += loss.item()\n",
    "\n",
    "    average_train_loss = running_loss / len(train_loader)\n",
    "\n",
    "    # Validation\n",
    "    model.eval()\n",
    "    val_loss = 0.0\n",
    "    with torch.no_grad():\n",
    "        for inputs, targets in val_loader:  \n",
    "            outputs = model(inputs)\n",
    "            loss = criterion(outputs, targets)\n",
    "            val_loss += loss.item()\n",
    "\n",
    "    average_val_loss = val_loss / len(val_loader)\n",
    "\n",
    "    print(f'Epoch [{epoch + 1}/{num_epochs}] - Training Loss: {average_train_loss:.4f} - Validation Loss: {average_val_loss:.4f}')"
   ],
   "metadata": {
    "collapsed": false,
    "ExecuteTime": {
     "end_time": "2023-10-03T01:28:00.225546Z",
     "start_time": "2023-10-03T01:13:53.995161Z"
    }
   },
   "id": "11f841b8ef60e20e"
  },
  {
   "cell_type": "code",
   "execution_count": 19,
   "outputs": [
    {
     "name": "stdout",
     "output_type": "stream",
     "text": [
      "Test Loss: 946.5685\n"
     ]
    }
   ],
   "source": [
    "\n",
    "# test dataset performance\n",
    "model.eval()\n",
    "test_loss = 0.0\n",
    "with torch.no_grad():\n",
    "    for inputs, targets in test_loader:  \n",
    "        outputs = model(inputs)\n",
    "        loss = criterion(outputs, targets)\n",
    "        test_loss += loss.item()\n",
    "\n",
    "average_test_loss = test_loss / len(test_loader)\n",
    "print(f'Test Loss: {average_test_loss:.4f}')\n"
   ],
   "metadata": {
    "collapsed": false,
    "ExecuteTime": {
     "end_time": "2023-10-03T02:07:24.189317Z",
     "start_time": "2023-10-03T02:07:23.845036Z"
    }
   },
   "id": "4f802f6012d889c2"
  },
  {
   "cell_type": "code",
   "execution_count": 17,
   "outputs": [],
   "source": [],
   "metadata": {
    "collapsed": false,
    "ExecuteTime": {
     "end_time": "2023-10-03T00:54:48.632763Z",
     "start_time": "2023-10-03T00:54:48.631346Z"
    }
   },
   "id": "6357c77b27ad21f2"
  },
  {
   "cell_type": "code",
   "execution_count": 17,
   "outputs": [],
   "source": [],
   "metadata": {
    "collapsed": false,
    "ExecuteTime": {
     "end_time": "2023-10-03T00:54:48.634850Z",
     "start_time": "2023-10-03T00:54:48.633546Z"
    }
   },
   "id": "799198d3e0252b31"
  }
 ],
 "metadata": {
  "kernelspec": {
   "display_name": "Python 3",
   "language": "python",
   "name": "python3"
  },
  "language_info": {
   "codemirror_mode": {
    "name": "ipython",
    "version": 2
   },
   "file_extension": ".py",
   "mimetype": "text/x-python",
   "name": "python",
   "nbconvert_exporter": "python",
   "pygments_lexer": "ipython2",
   "version": "2.7.6"
  }
 },
 "nbformat": 4,
 "nbformat_minor": 5
}
